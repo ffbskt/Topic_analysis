{
  "nbformat": 4,
  "nbformat_minor": 0,
  "metadata": {
    "colab": {
      "provenance": [],
      "collapsed_sections": [
        "Ux2y6CcJxSLa"
      ],
      "toc_visible": true
    },
    "kernelspec": {
      "name": "python3",
      "display_name": "Python 3"
    },
    "language_info": {
      "name": "python"
    },
    "widgets": {
      "application/vnd.jupyter.widget-state+json": {
        "ddfb8c3c9bb542d7954cca87199ed10a": {
          "model_module": "@jupyter-widgets/controls",
          "model_name": "HBoxModel",
          "state": {
            "_view_name": "HBoxView",
            "_dom_classes": [],
            "_model_name": "HBoxModel",
            "_view_module": "@jupyter-widgets/controls",
            "_model_module_version": "1.5.0",
            "_view_count": null,
            "_view_module_version": "1.5.0",
            "box_style": "",
            "layout": "IPY_MODEL_e2bb1680ae8546409d97efcb6e3c2c85",
            "_model_module": "@jupyter-widgets/controls",
            "children": [
              "IPY_MODEL_af43aee70f79460bb8b8b24278157794",
              "IPY_MODEL_149700dc592c45a19efc5d5dfdc08e9e"
            ]
          },
          "model_module_version": "1.5.0"
        },
        "e2bb1680ae8546409d97efcb6e3c2c85": {
          "model_module": "@jupyter-widgets/base",
          "model_name": "LayoutModel",
          "state": {
            "_view_name": "LayoutView",
            "grid_template_rows": null,
            "right": null,
            "justify_content": null,
            "_view_module": "@jupyter-widgets/base",
            "overflow": null,
            "_model_module_version": "1.2.0",
            "_view_count": null,
            "flex_flow": null,
            "width": null,
            "min_width": null,
            "border": null,
            "align_items": null,
            "bottom": null,
            "_model_module": "@jupyter-widgets/base",
            "top": null,
            "grid_column": null,
            "overflow_y": null,
            "overflow_x": null,
            "grid_auto_flow": null,
            "grid_area": null,
            "grid_template_columns": null,
            "flex": null,
            "_model_name": "LayoutModel",
            "justify_items": null,
            "grid_row": null,
            "max_height": null,
            "align_content": null,
            "visibility": null,
            "align_self": null,
            "height": null,
            "min_height": null,
            "padding": null,
            "grid_auto_rows": null,
            "grid_gap": null,
            "max_width": null,
            "order": null,
            "_view_module_version": "1.2.0",
            "grid_template_areas": null,
            "object_position": null,
            "object_fit": null,
            "grid_auto_columns": null,
            "margin": null,
            "display": null,
            "left": null
          },
          "model_module_version": "1.2.0"
        },
        "af43aee70f79460bb8b8b24278157794": {
          "model_module": "@jupyter-widgets/controls",
          "model_name": "FloatProgressModel",
          "state": {
            "_view_name": "ProgressView",
            "style": "IPY_MODEL_7cfa683939f4415fab2a2c73a1ad565a",
            "_dom_classes": [],
            "description": "Downloading https://raw.githubusercontent.com/stanfordnlp/stanza-resources/main/resources_1.2.1.json: ",
            "_model_name": "FloatProgressModel",
            "bar_style": "success",
            "max": 23888,
            "_view_module": "@jupyter-widgets/controls",
            "_model_module_version": "1.5.0",
            "value": 23888,
            "_view_count": null,
            "_view_module_version": "1.5.0",
            "orientation": "horizontal",
            "min": 0,
            "description_tooltip": null,
            "_model_module": "@jupyter-widgets/controls",
            "layout": "IPY_MODEL_f0a2c138b4244b16a0e77d57bb591205"
          },
          "model_module_version": "1.5.0"
        },
        "149700dc592c45a19efc5d5dfdc08e9e": {
          "model_module": "@jupyter-widgets/controls",
          "model_name": "HTMLModel",
          "state": {
            "_view_name": "HTMLView",
            "style": "IPY_MODEL_137bbf58148d487ab241e9824d1b1913",
            "_dom_classes": [],
            "description": "",
            "_model_name": "HTMLModel",
            "placeholder": "​",
            "_view_module": "@jupyter-widgets/controls",
            "_model_module_version": "1.5.0",
            "value": " 139k/? [00:00&lt;00:00, 2.15MB/s]",
            "_view_count": null,
            "_view_module_version": "1.5.0",
            "description_tooltip": null,
            "_model_module": "@jupyter-widgets/controls",
            "layout": "IPY_MODEL_b96c27f190214703be6ba036fb0e151d"
          },
          "model_module_version": "1.5.0"
        },
        "7cfa683939f4415fab2a2c73a1ad565a": {
          "model_module": "@jupyter-widgets/controls",
          "model_name": "ProgressStyleModel",
          "state": {
            "_view_name": "StyleView",
            "_model_name": "ProgressStyleModel",
            "description_width": "initial",
            "_view_module": "@jupyter-widgets/base",
            "_model_module_version": "1.5.0",
            "_view_count": null,
            "_view_module_version": "1.2.0",
            "bar_color": null,
            "_model_module": "@jupyter-widgets/controls"
          },
          "model_module_version": "1.5.0"
        },
        "f0a2c138b4244b16a0e77d57bb591205": {
          "model_module": "@jupyter-widgets/base",
          "model_name": "LayoutModel",
          "state": {
            "_view_name": "LayoutView",
            "grid_template_rows": null,
            "right": null,
            "justify_content": null,
            "_view_module": "@jupyter-widgets/base",
            "overflow": null,
            "_model_module_version": "1.2.0",
            "_view_count": null,
            "flex_flow": null,
            "width": null,
            "min_width": null,
            "border": null,
            "align_items": null,
            "bottom": null,
            "_model_module": "@jupyter-widgets/base",
            "top": null,
            "grid_column": null,
            "overflow_y": null,
            "overflow_x": null,
            "grid_auto_flow": null,
            "grid_area": null,
            "grid_template_columns": null,
            "flex": null,
            "_model_name": "LayoutModel",
            "justify_items": null,
            "grid_row": null,
            "max_height": null,
            "align_content": null,
            "visibility": null,
            "align_self": null,
            "height": null,
            "min_height": null,
            "padding": null,
            "grid_auto_rows": null,
            "grid_gap": null,
            "max_width": null,
            "order": null,
            "_view_module_version": "1.2.0",
            "grid_template_areas": null,
            "object_position": null,
            "object_fit": null,
            "grid_auto_columns": null,
            "margin": null,
            "display": null,
            "left": null
          },
          "model_module_version": "1.2.0"
        },
        "137bbf58148d487ab241e9824d1b1913": {
          "model_module": "@jupyter-widgets/controls",
          "model_name": "DescriptionStyleModel",
          "state": {
            "_view_name": "StyleView",
            "_model_name": "DescriptionStyleModel",
            "description_width": "",
            "_view_module": "@jupyter-widgets/base",
            "_model_module_version": "1.5.0",
            "_view_count": null,
            "_view_module_version": "1.2.0",
            "_model_module": "@jupyter-widgets/controls"
          },
          "model_module_version": "1.5.0"
        },
        "b96c27f190214703be6ba036fb0e151d": {
          "model_module": "@jupyter-widgets/base",
          "model_name": "LayoutModel",
          "state": {
            "_view_name": "LayoutView",
            "grid_template_rows": null,
            "right": null,
            "justify_content": null,
            "_view_module": "@jupyter-widgets/base",
            "overflow": null,
            "_model_module_version": "1.2.0",
            "_view_count": null,
            "flex_flow": null,
            "width": null,
            "min_width": null,
            "border": null,
            "align_items": null,
            "bottom": null,
            "_model_module": "@jupyter-widgets/base",
            "top": null,
            "grid_column": null,
            "overflow_y": null,
            "overflow_x": null,
            "grid_auto_flow": null,
            "grid_area": null,
            "grid_template_columns": null,
            "flex": null,
            "_model_name": "LayoutModel",
            "justify_items": null,
            "grid_row": null,
            "max_height": null,
            "align_content": null,
            "visibility": null,
            "align_self": null,
            "height": null,
            "min_height": null,
            "padding": null,
            "grid_auto_rows": null,
            "grid_gap": null,
            "max_width": null,
            "order": null,
            "_view_module_version": "1.2.0",
            "grid_template_areas": null,
            "object_position": null,
            "object_fit": null,
            "grid_auto_columns": null,
            "margin": null,
            "display": null,
            "left": null
          },
          "model_module_version": "1.2.0"
        },
        "abe90ba38c074cbdba1dd60488c15b11": {
          "model_module": "@jupyter-widgets/controls",
          "model_name": "HBoxModel",
          "state": {
            "_view_name": "HBoxView",
            "_dom_classes": [],
            "_model_name": "HBoxModel",
            "_view_module": "@jupyter-widgets/controls",
            "_model_module_version": "1.5.0",
            "_view_count": null,
            "_view_module_version": "1.5.0",
            "box_style": "",
            "layout": "IPY_MODEL_4defe168029a42d3a870f68f7ebb8932",
            "_model_module": "@jupyter-widgets/controls",
            "children": [
              "IPY_MODEL_d23fecd289344608bc6640899eff8c53",
              "IPY_MODEL_6231b49ffa7f40ccb7fdaa79fd1c27b1"
            ]
          },
          "model_module_version": "1.5.0"
        },
        "4defe168029a42d3a870f68f7ebb8932": {
          "model_module": "@jupyter-widgets/base",
          "model_name": "LayoutModel",
          "state": {
            "_view_name": "LayoutView",
            "grid_template_rows": null,
            "right": null,
            "justify_content": null,
            "_view_module": "@jupyter-widgets/base",
            "overflow": null,
            "_model_module_version": "1.2.0",
            "_view_count": null,
            "flex_flow": null,
            "width": null,
            "min_width": null,
            "border": null,
            "align_items": null,
            "bottom": null,
            "_model_module": "@jupyter-widgets/base",
            "top": null,
            "grid_column": null,
            "overflow_y": null,
            "overflow_x": null,
            "grid_auto_flow": null,
            "grid_area": null,
            "grid_template_columns": null,
            "flex": null,
            "_model_name": "LayoutModel",
            "justify_items": null,
            "grid_row": null,
            "max_height": null,
            "align_content": null,
            "visibility": null,
            "align_self": null,
            "height": null,
            "min_height": null,
            "padding": null,
            "grid_auto_rows": null,
            "grid_gap": null,
            "max_width": null,
            "order": null,
            "_view_module_version": "1.2.0",
            "grid_template_areas": null,
            "object_position": null,
            "object_fit": null,
            "grid_auto_columns": null,
            "margin": null,
            "display": null,
            "left": null
          },
          "model_module_version": "1.2.0"
        },
        "d23fecd289344608bc6640899eff8c53": {
          "model_module": "@jupyter-widgets/controls",
          "model_name": "FloatProgressModel",
          "state": {
            "_view_name": "ProgressView",
            "style": "IPY_MODEL_2bbd89f4c6214ceca5e2ec3a6fdcea27",
            "_dom_classes": [],
            "description": "Downloading http://nlp.stanford.edu/software/stanza/1.2.1/ru/default.zip: 100%",
            "_model_name": "FloatProgressModel",
            "bar_style": "success",
            "max": 574066147,
            "_view_module": "@jupyter-widgets/controls",
            "_model_module_version": "1.5.0",
            "value": 574066147,
            "_view_count": null,
            "_view_module_version": "1.5.0",
            "orientation": "horizontal",
            "min": 0,
            "description_tooltip": null,
            "_model_module": "@jupyter-widgets/controls",
            "layout": "IPY_MODEL_1d11eecd536f4d1dbe4b9599b5e7822a"
          },
          "model_module_version": "1.5.0"
        },
        "6231b49ffa7f40ccb7fdaa79fd1c27b1": {
          "model_module": "@jupyter-widgets/controls",
          "model_name": "HTMLModel",
          "state": {
            "_view_name": "HTMLView",
            "style": "IPY_MODEL_e8f7cde7f3b94542b175db2d85c3d450",
            "_dom_classes": [],
            "description": "",
            "_model_name": "HTMLModel",
            "placeholder": "​",
            "_view_module": "@jupyter-widgets/controls",
            "_model_module_version": "1.5.0",
            "value": " 574M/574M [01:55&lt;00:00, 4.95MB/s]",
            "_view_count": null,
            "_view_module_version": "1.5.0",
            "description_tooltip": null,
            "_model_module": "@jupyter-widgets/controls",
            "layout": "IPY_MODEL_a8c902ba3f7f4234a9737b6c7c988635"
          },
          "model_module_version": "1.5.0"
        },
        "2bbd89f4c6214ceca5e2ec3a6fdcea27": {
          "model_module": "@jupyter-widgets/controls",
          "model_name": "ProgressStyleModel",
          "state": {
            "_view_name": "StyleView",
            "_model_name": "ProgressStyleModel",
            "description_width": "initial",
            "_view_module": "@jupyter-widgets/base",
            "_model_module_version": "1.5.0",
            "_view_count": null,
            "_view_module_version": "1.2.0",
            "bar_color": null,
            "_model_module": "@jupyter-widgets/controls"
          },
          "model_module_version": "1.5.0"
        },
        "1d11eecd536f4d1dbe4b9599b5e7822a": {
          "model_module": "@jupyter-widgets/base",
          "model_name": "LayoutModel",
          "state": {
            "_view_name": "LayoutView",
            "grid_template_rows": null,
            "right": null,
            "justify_content": null,
            "_view_module": "@jupyter-widgets/base",
            "overflow": null,
            "_model_module_version": "1.2.0",
            "_view_count": null,
            "flex_flow": null,
            "width": null,
            "min_width": null,
            "border": null,
            "align_items": null,
            "bottom": null,
            "_model_module": "@jupyter-widgets/base",
            "top": null,
            "grid_column": null,
            "overflow_y": null,
            "overflow_x": null,
            "grid_auto_flow": null,
            "grid_area": null,
            "grid_template_columns": null,
            "flex": null,
            "_model_name": "LayoutModel",
            "justify_items": null,
            "grid_row": null,
            "max_height": null,
            "align_content": null,
            "visibility": null,
            "align_self": null,
            "height": null,
            "min_height": null,
            "padding": null,
            "grid_auto_rows": null,
            "grid_gap": null,
            "max_width": null,
            "order": null,
            "_view_module_version": "1.2.0",
            "grid_template_areas": null,
            "object_position": null,
            "object_fit": null,
            "grid_auto_columns": null,
            "margin": null,
            "display": null,
            "left": null
          },
          "model_module_version": "1.2.0"
        },
        "e8f7cde7f3b94542b175db2d85c3d450": {
          "model_module": "@jupyter-widgets/controls",
          "model_name": "DescriptionStyleModel",
          "state": {
            "_view_name": "StyleView",
            "_model_name": "DescriptionStyleModel",
            "description_width": "",
            "_view_module": "@jupyter-widgets/base",
            "_model_module_version": "1.5.0",
            "_view_count": null,
            "_view_module_version": "1.2.0",
            "_model_module": "@jupyter-widgets/controls"
          },
          "model_module_version": "1.5.0"
        },
        "a8c902ba3f7f4234a9737b6c7c988635": {
          "model_module": "@jupyter-widgets/base",
          "model_name": "LayoutModel",
          "state": {
            "_view_name": "LayoutView",
            "grid_template_rows": null,
            "right": null,
            "justify_content": null,
            "_view_module": "@jupyter-widgets/base",
            "overflow": null,
            "_model_module_version": "1.2.0",
            "_view_count": null,
            "flex_flow": null,
            "width": null,
            "min_width": null,
            "border": null,
            "align_items": null,
            "bottom": null,
            "_model_module": "@jupyter-widgets/base",
            "top": null,
            "grid_column": null,
            "overflow_y": null,
            "overflow_x": null,
            "grid_auto_flow": null,
            "grid_area": null,
            "grid_template_columns": null,
            "flex": null,
            "_model_name": "LayoutModel",
            "justify_items": null,
            "grid_row": null,
            "max_height": null,
            "align_content": null,
            "visibility": null,
            "align_self": null,
            "height": null,
            "min_height": null,
            "padding": null,
            "grid_auto_rows": null,
            "grid_gap": null,
            "max_width": null,
            "order": null,
            "_view_module_version": "1.2.0",
            "grid_template_areas": null,
            "object_position": null,
            "object_fit": null,
            "grid_auto_columns": null,
            "margin": null,
            "display": null,
            "left": null
          },
          "model_module_version": "1.2.0"
        }
      }
    }
  },
  "cells": [
    {
      "cell_type": "markdown",
      "metadata": {
        "id": "4qGZmt6axUMu"
      },
      "source": [
        "\n",
        "\n",
        "1.   Need function to download all coments and maybe other dataNeed function to download all coments and maybe other data\n",
        "2.   Remove more bots (maybe learn it) + remove coments with lexic\n",
        "3. Search and count words/ features in Comments\n",
        "4. Mark all comments and make sistem for filtering it, maybe use LDA and tfidf on subset, add probability to themes and filter it\n",
        "\n"
      ]
    },
    {
      "cell_type": "code",
      "metadata": {
        "id": "QA7hYJoLJy63",
        "colab": {
          "base_uri": "https://localhost:8080/"
        },
        "outputId": "6b4ca79b-e229-46c3-8195-5b61c4ace7c0"
      },
      "source": [
        "from google.colab import drive\n",
        "drive.mount('/content/gdrive')"
      ],
      "execution_count": null,
      "outputs": [
        {
          "output_type": "stream",
          "text": [
            "Mounted at /content/gdrive\n"
          ],
          "name": "stdout"
        }
      ]
    },
    {
      "cell_type": "markdown",
      "metadata": {
        "id": "rtURypWFwjKv"
      },
      "source": []
    },
    {
      "cell_type": "code",
      "metadata": {
        "id": "eyRd09BidQ28"
      },
      "source": [
        "project_dir = '/content/gdrive/My Drive/ColabNotebooks/Politologia/FinalRes/' # Denis path '/content/gdrive/My Drive/ColabNotebooks/Politologia/'\n",
        "import sys\n",
        "sys.path.insert(0, project_dir)"
      ],
      "execution_count": null,
      "outputs": []
    },
    {
      "cell_type": "code",
      "metadata": {
        "id": "HfsGYbmjUq73"
      },
      "source": [
        "import pandas as pd\n",
        "import pickle"
      ],
      "execution_count": null,
      "outputs": []
    },
    {
      "cell_type": "markdown",
      "metadata": {
        "id": "FRFzJ-G0eGb5"
      },
      "source": [
        "# Remove bots and mark comment type\n",
        "0 - normal, 1 - liked, 2 - bots (also could mark coments on bots replyes)"
      ]
    },
    {
      "cell_type": "code",
      "metadata": {
        "id": "OIT5kHNQRWWo"
      },
      "source": [
        "import matplotlib.pyplot as plt\n"
      ],
      "execution_count": null,
      "outputs": []
    },
    {
      "cell_type": "code",
      "metadata": {
        "id": "qjIFVnmDeFHM"
      },
      "source": [
        "# Clean Likes and Replays\n",
        "\n",
        "df = pd.read_excel(project_dir + 'Dud166k_191024_0100.xlsx')\n",
        "\n",
        "n = []\n",
        "for index, row in df.iterrows():\n",
        "  try:\n",
        "    #print(l[1][1], l[1])\n",
        "    int(row['Likes'])\n",
        "    int(row['Reply count'])\n",
        "  except ValueError:\n",
        "    #print(i, end=',')\n",
        "    repl = row['Comment updated']\n",
        "    x = list(df.loc[index, ['Likes', 'Comment created', 'Comment updated', 'Reply count']])\n",
        "    df.loc[index, ['Comment created', 'Comment updated', 'Reply count', 'ParentID']] = x\n",
        "    #df.loc[index, ['Comment created', 'Comment updated', 'Reply count', 'ParentID']] = df.loc[index, ['Likes', 'Comment created', 'Comment updated', 'Reply count']]\n",
        "    df.loc[index, [\"Likes\"]] = int(df[\"Comment Text\"][index].split('\\\"')[-1])\n",
        "    n.append(index)\n",
        "\n",
        "df[[\"Likes\", \"Reply count\"]] = df[[\"Likes\", \"Reply count\"]].astype(int)\n"
      ],
      "execution_count": null,
      "outputs": []
    },
    {
      "cell_type": "code",
      "metadata": {
        "colab": {
          "base_uri": "https://localhost:8080/"
        },
        "id": "0qiKY1Iph9aG",
        "outputId": "33f31702-01cf-48f4-a021-8bda37d75e20"
      },
      "source": [
        "len(df) # общее количесвто комментариев"
      ],
      "execution_count": null,
      "outputs": [
        {
          "output_type": "execute_result",
          "data": {
            "text/plain": [
              "166700"
            ]
          },
          "metadata": {
            "tags": []
          },
          "execution_count": 6
        }
      ]
    },
    {
      "cell_type": "code",
      "metadata": {
        "colab": {
          "base_uri": "https://localhost:8080/",
          "height": 300
        },
        "id": "_MvrikuEeRsd",
        "outputId": "b9589421-4aba-4f43-9a69-9ad5b6cd9cfc"
      },
      "source": [
        "#plt.ylim(1000)\n",
        "maxn_com = 50\n",
        "print('Most often Autor appears:', df.groupby('Author Name')[\"Author Channel ID\"].transform('count').max())\n",
        "fakedf = df[df.groupby('Author Name')[\"Author Channel ID\"].transform('count') > maxn_com] # take only autors with more then 50 appears - assume it is bots\n",
        "df.groupby('Author Name')[\"Author Channel ID\"].transform('count')[:5000].plot()  # avery where \"author name\" sub vs Author Channel ID"
      ],
      "execution_count": null,
      "outputs": [
        {
          "output_type": "stream",
          "text": [
            "Most often Autor appears: 2347.0\n"
          ],
          "name": "stdout"
        },
        {
          "output_type": "execute_result",
          "data": {
            "text/plain": [
              "<matplotlib.axes._subplots.AxesSubplot at 0x7f89f21b5250>"
            ]
          },
          "metadata": {
            "tags": []
          },
          "execution_count": 7
        },
        {
          "output_type": "display_data",
          "data": {
            "image/png": "[encoded data removed]",
            "text/plain": [
              "<Figure size 432x288 with 1 Axes>"
            ]
          },
          "metadata": {
            "tags": [],
            "needs_background": "light"
          }
        }
      ]
    },
    {
      "cell_type": "code",
      "metadata": {
        "id": "M8EtzUOooOfn"
      },
      "source": [
        "df['occurs'] = df.groupby('Author Name')[\"Author Channel ID\"].transform('count').dropna()"
      ],
      "execution_count": null,
      "outputs": []
    },
    {
      "cell_type": "code",
      "metadata": {
        "colab": {
          "base_uri": "https://localhost:8080/"
        },
        "id": "M5BjhsnqEC-u",
        "outputId": "b1d28b52-e2ec-47cc-e851-0a0c27d44b0f"
      },
      "source": [
        "print(\"Number of authors names:\", len(df.drop_duplicates('Author Name')), \"\\n med with bots and without:\",  df['occurs'].median(), df['occurs'][df['occurs'] < 50 ].median())\n",
        "print('stats with bots\\n', df['occurs'].describe())\n",
        "#Функция std() вычисляет среднеквадратичное (стандартное) отклонение значений элементов массива.\n",
        "#\n",
        "\n",
        "print('\\nstats without bots')\n",
        "df['occurs'][df['occurs'] < 50 ].describe()"
      ],
      "execution_count": null,
      "outputs": [
        {
          "output_type": "stream",
          "text": [
            "Number of authors names: 81983 \n",
            " med with bots and without: 3.0 2.0\n",
            "stats with bots\n",
            " count    166689.000000\n",
            "mean         76.792788\n",
            "std         327.844186\n",
            "min           1.000000\n",
            "25%           1.000000\n",
            "50%           3.000000\n",
            "75%          13.000000\n",
            "max        2347.000000\n",
            "Name: occurs, dtype: float64\n",
            "\n",
            "stats without bots\n"
          ],
          "name": "stdout"
        },
        {
          "output_type": "execute_result",
          "data": {
            "text/plain": [
              "count    147899.000000\n",
              "mean          6.434208\n",
              "std           9.641352\n",
              "min           1.000000\n",
              "25%           1.000000\n",
              "50%           2.000000\n",
              "75%           7.000000\n",
              "max          49.000000\n",
              "Name: occurs, dtype: float64"
            ]
          },
          "metadata": {
            "tags": []
          },
          "execution_count": 9
        }
      ]
    },
    {
      "cell_type": "code",
      "metadata": {
        "colab": {
          "base_uri": "https://localhost:8080/",
          "height": 312
        },
        "id": "He7kxmMsRIL2",
        "outputId": "6c9c6c34-f5a8-421e-fec8-f6a45408d9e0"
      },
      "source": [
        "#plt.plot(sorted(df.drop_duplicates('Author Name')['occurs'])[60000::81600])\n",
        "plt.plot(sorted(df.drop_duplicates('Author Name')['occurs']))#[81000:81750])\n",
        "plt.xlim(81000, 81750) # Change diapason\n",
        "plt.ylim(0, 140)\n",
        "plt.xlabel('Сам напишешь') #\n",
        "plt.ylabel('Probability')\n",
        "plt.title('Name')"
      ],
      "execution_count": null,
      "outputs": [
        {
          "output_type": "execute_result",
          "data": {
            "text/plain": [
              "Text(0.5, 1.0, 'Name')"
            ]
          },
          "metadata": {
            "tags": []
          },
          "execution_count": 10
        },
        {
          "output_type": "display_data",
          "data": {
            "image/png": "[encoded data removed]",
            "text/plain": [
              "<Figure size 432x288 with 1 Axes>"
            ]
          },
          "metadata": {
            "tags": [],
            "needs_background": "light"
          }
        }
      ]
    },
    {
      "cell_type": "code",
      "metadata": {
        "id": "qlNsbmOXzewW"
      },
      "source": [],
      "execution_count": null,
      "outputs": []
    },
    {
      "cell_type": "code",
      "metadata": {
        "id": "XFMCcIvMeRza"
      },
      "source": [
        "df_double_name = df.drop_duplicates(subset=\"Author Name\")[df.drop_duplicates(subset=\"Author Name\").groupby(\"Author Channel ID\")[\"Author Name\"].transform('count') == 2].sort_values('Author Channel ID')\n"
      ],
      "execution_count": null,
      "outputs": []
    },
    {
      "cell_type": "code",
      "metadata": {
        "colab": {
          "base_uri": "https://localhost:8080/"
        },
        "id": "pYEvjboxG71q",
        "outputId": "2d581a8c-41ec-4ab0-f2f9-75da7d051d43"
      },
      "source": [
        "a = sum(fakedf.assign(name2=fakedf[\"Author Channel ID\"].isin(df_double_name[\"Author Channel ID\"]).astype(int)).drop_duplicates(subset=\"Author Name\")['name2'])\n",
        "b = len(df_double_name)\n",
        "c = sum(fakedf[\"ParentID\"].notnull())\n",
        "print('ids more then 50 times occur:', sum(df.drop_duplicates('Author Name')['occurs'] > 50))\n",
        "print(\"\\naccount with double names: \", b, \"\\nbots of this accounts: \", a, '\\nall bots with replay and coments > ', maxn_com, 'is ', len(fakedf), '\\nbots only replays', sum(fakedf[\"ParentID\"].notnull()))"
      ],
      "execution_count": null,
      "outputs": [
        {
          "output_type": "stream",
          "text": [
            "ids more then 50 times occur: 137\n",
            "\n",
            "account with double names:  38 \n",
            "bots of this accounts:  0 \n",
            "all bots with replay and coments >  50 is  18590 \n",
            "bots only replays 17625\n"
          ],
          "name": "stdout"
        }
      ]
    },
    {
      "cell_type": "code",
      "metadata": {
        "colab": {
          "base_uri": "https://localhost:8080/",
          "height": 543
        },
        "id": "rpu8_HXYfsgs",
        "outputId": "ce9a39e7-08d1-45a4-8f33-b518740b8e9c"
      },
      "source": [
        "plt.plot(sorted(df[\"Likes\"].values)[:150000]) # more then 16 000 coments has Likes > 6\n",
        "plt.ylim(-0.2, 6)\n",
        "plt.xlabel('Сам напишешь') #\n",
        "plt.ylabel('Probability')\n",
        "plt.title('Name')\n",
        "plt.show()\n",
        "plt.plot(sorted(df[\"Reply count\"].values)[164000:]) # Only 500 coments more then 20 replays\n",
        "plt.show()"
      ],
      "execution_count": null,
      "outputs": [
        {
          "output_type": "display_data",
          "data": {
            "image/png": "[encoded data removed]",
            "text/plain": [
              "<Figure size 432x288 with 1 Axes>"
            ]
          },
          "metadata": {
            "tags": [],
            "needs_background": "light"
          }
        },
        {
          "output_type": "display_data",
          "data": {
            "image/png": "[encoded data removed]",
            "text/plain": [
              "<Figure size 432x288 with 1 Axes>"
            ]
          },
          "metadata": {
            "tags": [],
            "needs_background": "light"
          }
        }
      ]
    },
    {
      "cell_type": "code",
      "metadata": {
        "id": "ZneKNr0QeQbw"
      },
      "source": [
        "maxn_com = 50\n",
        "df[\"type\"] = 0\n",
        "df.loc[df.groupby('Author Name')[\"Author Channel ID\"].transform('count') > maxn_com, \"type\"] = 2\n",
        "df.loc[df[\"Likes\"] > 6, \"type\"] = 1"
      ],
      "execution_count": null,
      "outputs": []
    },
    {
      "cell_type": "code",
      "metadata": {
        "colab": {
          "base_uri": "https://localhost:8080/"
        },
        "id": "FER_3HBOi45K",
        "outputId": "11778e2c-59a9-4049-e529-45406a9e0cc8"
      },
      "source": [
        "len(df[df[\"type\"] == 1]) # rand split"
      ],
      "execution_count": null,
      "outputs": [
        {
          "output_type": "execute_result",
          "data": {
            "text/plain": [
              "15037"
            ]
          },
          "metadata": {
            "tags": []
          },
          "execution_count": 15
        }
      ]
    },
    {
      "cell_type": "markdown",
      "metadata": {
        "id": "Tj8xhUfy5bYO"
      },
      "source": [
        "## Multiclass text clf\n",
        "https://towardsdatascience.com/multi-class-text-classification-with-scikit-learn-12f1e60e0a9f\n"
      ]
    },
    {
      "cell_type": "markdown",
      "metadata": {
        "id": "UaR0HapMG04x"
      },
      "source": [
        "# Lemmatize all\n",
        ""
      ]
    },
    {
      "cell_type": "code",
      "metadata": {
        "colab": {
          "base_uri": "https://localhost:8080/"
        },
        "id": "mxHyx39iBZct",
        "outputId": "e7e69e14-c422-496b-edd0-90425811b6ea"
      },
      "source": [
        "!pip install stanza -U"
      ],
      "execution_count": null,
      "outputs": [
        {
          "output_type": "stream",
          "text": [
            "Collecting stanza\n",
            "\u001b[?25l  Downloading https://files.pythonhosted.org/packages/2d/f3/cd7eaacabcec195a1c6c07b08cf1587b9f3f8754feba5c87d28867d75671/stanza-1.2.1-py3-none-any.whl (334kB)\n",
            "\u001b[K     |████████████████████████████████| 337kB 7.4MB/s \n",
            "\u001b[?25hRequirement already satisfied, skipping upgrade: protobuf in /usr/local/lib/python3.7/dist-packages (from stanza) (3.12.4)\n",
            "Requirement already satisfied, skipping upgrade: torch>=1.3.0 in /usr/local/lib/python3.7/dist-packages (from stanza) (1.9.0+cu102)\n",
            "Requirement already satisfied, skipping upgrade: numpy in /usr/local/lib/python3.7/dist-packages (from stanza) (1.19.5)\n",
            "Requirement already satisfied, skipping upgrade: tqdm in /usr/local/lib/python3.7/dist-packages (from stanza) (4.41.1)\n",
            "Requirement already satisfied, skipping upgrade: requests in /usr/local/lib/python3.7/dist-packages (from stanza) (2.23.0)\n",
            "Requirement already satisfied, skipping upgrade: six>=1.9 in /usr/local/lib/python3.7/dist-packages (from protobuf->stanza) (1.15.0)\n",
            "Requirement already satisfied, skipping upgrade: setuptools in /usr/local/lib/python3.7/dist-packages (from protobuf->stanza) (57.0.0)\n",
            "Requirement already satisfied, skipping upgrade: typing-extensions in /usr/local/lib/python3.7/dist-packages (from torch>=1.3.0->stanza) (3.7.4.3)\n",
            "Requirement already satisfied, skipping upgrade: urllib3!=1.25.0,!=1.25.1,<1.26,>=1.21.1 in /usr/local/lib/python3.7/dist-packages (from requests->stanza) (1.24.3)\n",
            "Requirement already satisfied, skipping upgrade: chardet<4,>=3.0.2 in /usr/local/lib/python3.7/dist-packages (from requests->stanza) (3.0.4)\n",
            "Requirement already satisfied, skipping upgrade: certifi>=2017.4.17 in /usr/local/lib/python3.7/dist-packages (from requests->stanza) (2021.5.30)\n",
            "Requirement already satisfied, skipping upgrade: idna<3,>=2.5 in /usr/local/lib/python3.7/dist-packages (from requests->stanza) (2.10)\n",
            "Installing collected packages: stanza\n",
            "Successfully installed stanza-1.2.1\n"
          ],
          "name": "stdout"
        }
      ]
    },
    {
      "cell_type": "code",
      "metadata": {
        "id": "-jXcRD_FBcOs"
      },
      "source": [
        "import stanza"
      ],
      "execution_count": null,
      "outputs": []
    },
    {
      "cell_type": "code",
      "metadata": {
        "colab": {
          "base_uri": "https://localhost:8080/",
          "height": 472,
          "referenced_widgets": [
            "ddfb8c3c9bb542d7954cca87199ed10a",
            "e2bb1680ae8546409d97efcb6e3c2c85",
            "af43aee70f79460bb8b8b24278157794",
            "149700dc592c45a19efc5d5dfdc08e9e",
            "7cfa683939f4415fab2a2c73a1ad565a",
            "f0a2c138b4244b16a0e77d57bb591205",
            "137bbf58148d487ab241e9824d1b1913",
            "b96c27f190214703be6ba036fb0e151d",
            "abe90ba38c074cbdba1dd60488c15b11",
            "4defe168029a42d3a870f68f7ebb8932",
            "d23fecd289344608bc6640899eff8c53",
            "6231b49ffa7f40ccb7fdaa79fd1c27b1",
            "2bbd89f4c6214ceca5e2ec3a6fdcea27",
            "1d11eecd536f4d1dbe4b9599b5e7822a",
            "e8f7cde7f3b94542b175db2d85c3d450",
            "a8c902ba3f7f4234a9737b6c7c988635"
          ]
        },
        "id": "PvbzBHBCBcRf",
        "outputId": "20bc6cfa-3a79-4230-ada1-e4ebd551887d"
      },
      "source": [
        "stanza.download('ru')\n",
        "nlp = stanza.Pipeline('ru', models_dir='gdrive/My Drive/ColabNotebooks/Politologia')"
      ],
      "execution_count": null,
      "outputs": [
        {
          "output_type": "display_data",
          "data": {
            "application/vnd.jupyter.widget-view+json": {
              "model_id": "ddfb8c3c9bb542d7954cca87199ed10a",
              "version_minor": 0,
              "version_major": 2
            },
            "text/plain": [
              "HBox(children=(FloatProgress(value=0.0, description='Downloading https://raw.githubusercontent.com/stanfordnlp…"
            ]
          },
          "metadata": {
            "tags": []
          }
        },
        {
          "output_type": "stream",
          "text": [
            "2021-06-19 08:49:50 INFO: Downloading default packages for language: ru (Russian)...\n"
          ],
          "name": "stderr"
        },
        {
          "output_type": "stream",
          "text": [
            "\n"
          ],
          "name": "stdout"
        },
        {
          "output_type": "display_data",
          "data": {
            "application/vnd.jupyter.widget-view+json": {
              "model_id": "abe90ba38c074cbdba1dd60488c15b11",
              "version_minor": 0,
              "version_major": 2
            },
            "text/plain": [
              "HBox(children=(FloatProgress(value=0.0, description='Downloading http://nlp.stanford.edu/software/stanza/1.2.1…"
            ]
          },
          "metadata": {
            "tags": []
          }
        },
        {
          "output_type": "stream",
          "text": [
            "\n"
          ],
          "name": "stdout"
        },
        {
          "output_type": "stream",
          "text": [
            "2021-06-19 08:51:46 INFO: Finished downloading models and saved to /root/stanza_resources.\n",
            "2021-06-19 08:51:46 INFO: Loading these models for language: ru (Russian):\n",
            "=========================\n",
            "| Processor | Package   |\n",
            "-------------------------\n",
            "| tokenize  | syntagrus |\n",
            "| pos       | syntagrus |\n",
            "| lemma     | syntagrus |\n",
            "| depparse  | syntagrus |\n",
            "| ner       | wikiner   |\n",
            "=========================\n",
            "\n",
            "2021-06-19 08:51:46 INFO: Use device: cpu\n",
            "2021-06-19 08:51:46 INFO: Loading: tokenize\n",
            "2021-06-19 08:51:47 INFO: Loading: pos\n",
            "2021-06-19 08:51:47 INFO: Loading: lemma\n",
            "2021-06-19 08:51:47 INFO: Loading: depparse\n",
            "2021-06-19 08:51:48 INFO: Loading: ner\n",
            "2021-06-19 08:51:50 INFO: Done loading processors!\n"
          ],
          "name": "stderr"
        }
      ]
    },
    {
      "cell_type": "markdown",
      "metadata": {
        "id": "QjxGH_Qkz-4Z"
      },
      "source": [
        "## Lemmatize functions"
      ]
    },
    {
      "cell_type": "code",
      "metadata": {
        "id": "qf9qh6B2KPSN"
      },
      "source": [
        "import re\n",
        "import gensim\n",
        "from string import punctuation\n",
        "import pickle\n",
        "\n",
        "# Copy past!!! from lower !!!\n",
        "lemma_dir = '/content/gdrive/My Drive/ColabNotebooks/Politologia/FinalRes/'#Polit102020/'# Sergey '/content/gdrive/My Drive/Politresearch/'\n",
        "with open(lemma_dir + 'stopwords2.pickle', 'rb') as handle:\n",
        "    russian_stopwords = pickle.load(handle)\n",
        "\n",
        "def prepare_data(data): #df[:400][COMENT_COL]\n",
        "  data_words = []\n",
        "  for comment in data:\n",
        "\n",
        "    text = comment\n",
        "    #print(text)\n",
        "    text = re.sub('\\S*@\\S*\\s?', '', text)\n",
        "    text = re.sub('\\s+', ' ', text)\n",
        "    text = re.sub(\"\\'\", \"\", text)\n",
        "    text = re.sub(\":\\/\\/\\S*\\s?\", \" \", text)\n",
        "    #tmp = []\n",
        "    #for token in text:\n",
        "    #  if\n",
        "\n",
        "    text = gensim.utils.simple_preprocess(text, deacc=True)\n",
        "    # Maybe remove \"No\" from stop words??\n",
        "    text = [token for token in text if token not in russian_stopwords and token.strip() not in punctuation]\n",
        "    #print(text)\n",
        "    data_words.append(text)\n",
        "    #row_text =\n",
        "  return data_words"
      ],
      "execution_count": null,
      "outputs": []
    },
    {
      "cell_type": "markdown",
      "metadata": {
        "id": "kcRKpCZu19LO"
      },
      "source": []
    },
    {
      "cell_type": "code",
      "metadata": {
        "id": "pSnWF85m18U8"
      },
      "source": [
        "#open(project_dir + \"full_data.pickle\", 'a').close()"
      ],
      "execution_count": null,
      "outputs": []
    },
    {
      "cell_type": "code",
      "metadata": {
        "id": "BdZRtLNLNtI8"
      },
      "source": [
        "try:\n",
        "  with open(project_dir + \"full_data.pickle\", 'rb') as handle:\n",
        "      data_words = pickle.load(handle)\n",
        "except:\n",
        "\n",
        "  COMENT_COL = \"Comment Text\"\n",
        "  %time data_words = prepare_data(df[COMENT_COL])\n",
        "  with open(project_dir + \"full_data.pickle\", 'wb') as handle:\n",
        "        pickle.dump(data_words, handle)\n"
      ],
      "execution_count": null,
      "outputs": []
    },
    {
      "cell_type": "code",
      "metadata": {
        "id": "XxfkQfQR24BL"
      },
      "source": [
        "def lemmatization(texts, allowed_postags=['NOUN', 'ADJ', 'VERB', 'ADV']):\n",
        "    \"\"\"https://spacy.io/api/annotation\"\"\"\n",
        "    texts_out = []\n",
        "    for sent in texts:\n",
        "        doc = nlp(\" \".join(sent))\n",
        "        #print(next(doc.iter_words()))\n",
        "\n",
        "        texts_out.append(\" \".join([token.lemma for token in doc.iter_words() if token.upos in allowed_postags]))\n",
        "    return texts_out\n",
        "\n",
        "def text_transformer_back_up(comment_column,\n",
        "                             step=10000,\n",
        "                             russian_stopwords=russian_stopwords,\n",
        "                             allowed_postags=['NOUN', 'ADJ', 'VERB', 'ADV'],\n",
        "                             path=project_dir + 'lemmas_all.pickle'\n",
        "                             ):\n",
        "  try:\n",
        "    with open(path, 'rb') as handle:\n",
        "      lemmas = pickle.load(handle)\n",
        "      print('load success, start from:', len(lemmas), ' step:', step)\n",
        "  except FileNotFoundError:\n",
        "    lemmas = []\n",
        "    print('create new file:', path, ' step:', step)\n",
        "  while len(lemmas) < len(comment_column):\n",
        "    lemmas.extend(lemmatization(comment_column[len(lemmas):len(lemmas) + step],\n",
        "                                  allowed_postags=allowed_postags)\n",
        "                  )\n",
        "    with open(path, 'wb') as handle:\n",
        "      pickle.dump(lemmas, handle)\n",
        "    print('save succes lenth:', len(lemmas))"
      ],
      "execution_count": null,
      "outputs": []
    },
    {
      "cell_type": "markdown",
      "metadata": {
        "id": "Fx6nuG5aIMby"
      },
      "source": [
        "12\n"
      ]
    },
    {
      "cell_type": "code",
      "metadata": {
        "colab": {
          "base_uri": "https://localhost:8080/",
          "height": 1000
        },
        "id": "CAnKR7or38s3",
        "outputId": "fc0e2ac8-eb8c-4029-87c0-63e2a4f545e8"
      },
      "source": [
        "df[df['Author Name']=='Тимур Исаев']"
      ],
      "execution_count": null,
      "outputs": [
        {
          "output_type": "execute_result",
          "data": {
            "text/html": [
              "<div>\n",
              "<style scoped>\n",
              "    .dataframe tbody tr th:only-of-type {\n",
              "        vertical-align: middle;\n",
              "    }\n",
              "\n",
              "    .dataframe tbody tr th {\n",
              "        vertical-align: top;\n",
              "    }\n",
              "\n",
              "    .dataframe thead th {\n",
              "        text-align: right;\n",
              "    }\n",
              "</style>\n",
              "<table border=\"1\" class=\"dataframe\">\n",
              "  <thead>\n",
              "    <tr style=\"text-align: right;\">\n",
              "      <th></th>\n",
              "      <th>Comment ID</th>\n",
              "      <th>Author Name</th>\n",
              "      <th>Author Channel ID</th>\n",
              "      <th>Comment Text</th>\n",
              "      <th>Likes</th>\n",
              "      <th>Comment created</th>\n",
              "      <th>Comment updated</th>\n",
              "      <th>Reply count</th>\n",
              "      <th>ParentID</th>\n",
              "      <th>occurs</th>\n",
              "      <th>type</th>\n",
              "    </tr>\n",
              "  </thead>\n",
              "  <tbody>\n",
              "    <tr>\n",
              "      <th>632</th>\n",
              "      <td>Ugw-_JzmFz9pKtRfPSF4AaABAg.8uG_U0VQpon8uGaGX7hBvC</td>\n",
              "      <td>Тимур Исаев</td>\n",
              "      <td>UCjCfBEVrPQ6K1a9J4_N_QVQ</td>\n",
              "      <td>Зачем далеко ездить? Можно в Волгограде при -1...</td>\n",
              "      <td>0</td>\n",
              "      <td>2019-04-28T11:51:36.000Z</td>\n",
              "      <td>2019-04-28T11:51:36.000Z</td>\n",
              "      <td>0</td>\n",
              "      <td>Ugw-_JzmFz9pKtRfPSF4AaABAg</td>\n",
              "      <td>23.0</td>\n",
              "      <td>0</td>\n",
              "    </tr>\n",
              "    <tr>\n",
              "      <th>634</th>\n",
              "      <td>Ugw-_JzmFz9pKtRfPSF4AaABAg.8uG_U0VQpon8uGdJsBEXTp</td>\n",
              "      <td>Тимур Исаев</td>\n",
              "      <td>UCjCfBEVrPQ6K1a9J4_N_QVQ</td>\n",
              "      <td>@Дядя Федор Крузенштерн бывал по работе зимой ...</td>\n",
              "      <td>0</td>\n",
              "      <td>2019-04-28T12:18:17.000Z</td>\n",
              "      <td>2019-04-28T12:18:17.000Z</td>\n",
              "      <td>0</td>\n",
              "      <td>Ugw-_JzmFz9pKtRfPSF4AaABAg</td>\n",
              "      <td>23.0</td>\n",
              "      <td>0</td>\n",
              "    </tr>\n",
              "    <tr>\n",
              "      <th>11118</th>\n",
              "      <td>UgwctpPVPH9azqd1UNx4AaABAg.8uEPU9FTkA68uE_j9nDoZZ</td>\n",
              "      <td>Тимур Исаев</td>\n",
              "      <td>UCjCfBEVrPQ6K1a9J4_N_QVQ</td>\n",
              "      <td>@Илона Романова здравомыслящие есть везде.</td>\n",
              "      <td>0</td>\n",
              "      <td>2019-04-27T17:08:26.000Z</td>\n",
              "      <td>2019-04-27T17:08:26.000Z</td>\n",
              "      <td>0</td>\n",
              "      <td>UgwctpPVPH9azqd1UNx4AaABAg</td>\n",
              "      <td>23.0</td>\n",
              "      <td>0</td>\n",
              "    </tr>\n",
              "    <tr>\n",
              "      <th>11119</th>\n",
              "      <td>UgwctpPVPH9azqd1UNx4AaABAg.8uEPU9FTkA68uEezlxziPw</td>\n",
              "      <td>Тимур Исаев</td>\n",
              "      <td>UCjCfBEVrPQ6K1a9J4_N_QVQ</td>\n",
              "      <td>@From the world of Steampunk забавный дурачок</td>\n",
              "      <td>0</td>\n",
              "      <td>2019-04-27T17:54:23.000Z</td>\n",
              "      <td>2019-04-27T17:54:23.000Z</td>\n",
              "      <td>0</td>\n",
              "      <td>UgwctpPVPH9azqd1UNx4AaABAg</td>\n",
              "      <td>23.0</td>\n",
              "      <td>0</td>\n",
              "    </tr>\n",
              "    <tr>\n",
              "      <th>11121</th>\n",
              "      <td>UgwctpPVPH9azqd1UNx4AaABAg.8uEPU9FTkA68uEipykpNqj</td>\n",
              "      <td>Тимур Исаев</td>\n",
              "      <td>UCjCfBEVrPQ6K1a9J4_N_QVQ</td>\n",
              "      <td>@From the world of Steampunk поясни свою глубо...</td>\n",
              "      <td>0</td>\n",
              "      <td>2019-04-27T18:28:00.000Z</td>\n",
              "      <td>2019-04-27T18:28:00.000Z</td>\n",
              "      <td>0</td>\n",
              "      <td>UgwctpPVPH9azqd1UNx4AaABAg</td>\n",
              "      <td>23.0</td>\n",
              "      <td>0</td>\n",
              "    </tr>\n",
              "    <tr>\n",
              "      <th>11123</th>\n",
              "      <td>UgwctpPVPH9azqd1UNx4AaABAg.8uEPU9FTkA68uEmBy97zbk</td>\n",
              "      <td>Тимур Исаев</td>\n",
              "      <td>UCjCfBEVrPQ6K1a9J4_N_QVQ</td>\n",
              "      <td>@From the world of Steampunk я вам, сударь, об...</td>\n",
              "      <td>0</td>\n",
              "      <td>2019-04-27T18:57:21.000Z</td>\n",
              "      <td>2019-04-27T18:57:21.000Z</td>\n",
              "      <td>0</td>\n",
              "      <td>UgwctpPVPH9azqd1UNx4AaABAg</td>\n",
              "      <td>23.0</td>\n",
              "      <td>0</td>\n",
              "    </tr>\n",
              "    <tr>\n",
              "      <th>11125</th>\n",
              "      <td>UgwctpPVPH9azqd1UNx4AaABAg.8uEPU9FTkA68uESUE9Y-Pw</td>\n",
              "      <td>Тимур Исаев</td>\n",
              "      <td>UCjCfBEVrPQ6K1a9J4_N_QVQ</td>\n",
              "      <td>Совсем дурак? Это животное. Они там дичают и п...</td>\n",
              "      <td>0</td>\n",
              "      <td>2019-04-27T15:56:21.000Z</td>\n",
              "      <td>2019-04-27T15:56:21.000Z</td>\n",
              "      <td>0</td>\n",
              "      <td>UgwctpPVPH9azqd1UNx4AaABAg</td>\n",
              "      <td>23.0</td>\n",
              "      <td>0</td>\n",
              "    </tr>\n",
              "    <tr>\n",
              "      <th>11127</th>\n",
              "      <td>UgwctpPVPH9azqd1UNx4AaABAg.8uEPU9FTkA68uGyYrKEJu7</td>\n",
              "      <td>Тимур Исаев</td>\n",
              "      <td>UCjCfBEVrPQ6K1a9J4_N_QVQ</td>\n",
              "      <td>@From the world of Steampunk сначала про кота....</td>\n",
              "      <td>0</td>\n",
              "      <td>2019-04-28T15:23:49.000Z</td>\n",
              "      <td>2019-04-28T15:25:07.000Z</td>\n",
              "      <td>0</td>\n",
              "      <td>UgwctpPVPH9azqd1UNx4AaABAg</td>\n",
              "      <td>23.0</td>\n",
              "      <td>0</td>\n",
              "    </tr>\n",
              "    <tr>\n",
              "      <th>11128</th>\n",
              "      <td>UgwctpPVPH9azqd1UNx4AaABAg.8uEPU9FTkA68uGzVSgonAK</td>\n",
              "      <td>Тимур Исаев</td>\n",
              "      <td>UCjCfBEVrPQ6K1a9J4_N_QVQ</td>\n",
              "      <td>@From the world of Steampunk касаемо уравниван...</td>\n",
              "      <td>0</td>\n",
              "      <td>2019-04-28T15:32:06.000Z</td>\n",
              "      <td>2019-04-28T15:32:06.000Z</td>\n",
              "      <td>0</td>\n",
              "      <td>UgwctpPVPH9azqd1UNx4AaABAg</td>\n",
              "      <td>23.0</td>\n",
              "      <td>0</td>\n",
              "    </tr>\n",
              "    <tr>\n",
              "      <th>11130</th>\n",
              "      <td>UgwctpPVPH9azqd1UNx4AaABAg.8uEPU9FTkA68uHA72VA9HI</td>\n",
              "      <td>Тимур Исаев</td>\n",
              "      <td>UCjCfBEVrPQ6K1a9J4_N_QVQ</td>\n",
              "      <td>@From the world of Steampunk и про год мод мне...</td>\n",
              "      <td>0</td>\n",
              "      <td>2019-04-28T17:13:37.000Z</td>\n",
              "      <td>2019-04-28T17:14:13.000Z</td>\n",
              "      <td>0</td>\n",
              "      <td>UgwctpPVPH9azqd1UNx4AaABAg</td>\n",
              "      <td>23.0</td>\n",
              "      <td>0</td>\n",
              "    </tr>\n",
              "    <tr>\n",
              "      <th>38661</th>\n",
              "      <td>UgwYFDumEdnFWqf9Kg54AaABAg.8uK07YwyXGq8uK3tEajWtP</td>\n",
              "      <td>Тимур Исаев</td>\n",
              "      <td>UCjCfBEVrPQ6K1a9J4_N_QVQ</td>\n",
              "      <td>Современникам тех событий должно быть почти 10...</td>\n",
              "      <td>1</td>\n",
              "      <td>2019-04-29T20:16:54.000Z</td>\n",
              "      <td>2019-04-29T20:18:42.000Z</td>\n",
              "      <td>0</td>\n",
              "      <td>UgwYFDumEdnFWqf9Kg54AaABAg</td>\n",
              "      <td>23.0</td>\n",
              "      <td>0</td>\n",
              "    </tr>\n",
              "    <tr>\n",
              "      <th>62909</th>\n",
              "      <td>UgxJmWtMSYntxTs235F4AaABAg.8uK-WqDIDld8uK4uU5vQ7j</td>\n",
              "      <td>Тимур Исаев</td>\n",
              "      <td>UCjCfBEVrPQ6K1a9J4_N_QVQ</td>\n",
              "      <td>Заберите его себе, пожалуйста.</td>\n",
              "      <td>0</td>\n",
              "      <td>2019-04-29T20:25:48.000Z</td>\n",
              "      <td>2019-04-29T20:25:48.000Z</td>\n",
              "      <td>0</td>\n",
              "      <td>UgxJmWtMSYntxTs235F4AaABAg</td>\n",
              "      <td>23.0</td>\n",
              "      <td>0</td>\n",
              "    </tr>\n",
              "    <tr>\n",
              "      <th>66658</th>\n",
              "      <td>UgxmMGgcGVzAv0JRU3N4AaABAg.8uK0fKthEB78uK2ZCLn8Yl</td>\n",
              "      <td>Тимур Исаев</td>\n",
              "      <td>UCjCfBEVrPQ6K1a9J4_N_QVQ</td>\n",
              "      <td>Скажите, чтобы не сидел в интернете, а читал к...</td>\n",
              "      <td>0</td>\n",
              "      <td>2019-04-29T20:05:17.000Z</td>\n",
              "      <td>2019-04-29T20:05:17.000Z</td>\n",
              "      <td>0</td>\n",
              "      <td>UgxmMGgcGVzAv0JRU3N4AaABAg</td>\n",
              "      <td>23.0</td>\n",
              "      <td>0</td>\n",
              "    </tr>\n",
              "    <tr>\n",
              "      <th>73387</th>\n",
              "      <td>UgxrZHdzw8GgCKDfDCx4AaABAg.8uG1K2CWZN-8uG7P-vkJim</td>\n",
              "      <td>Тимур Исаев</td>\n",
              "      <td>UCjCfBEVrPQ6K1a9J4_N_QVQ</td>\n",
              "      <td>Вообщем, либеральная молодёжь</td>\n",
              "      <td>0</td>\n",
              "      <td>2019-04-28T07:30:37.000Z</td>\n",
              "      <td>2019-04-28T07:30:37.000Z</td>\n",
              "      <td>0</td>\n",
              "      <td>UgxrZHdzw8GgCKDfDCx4AaABAg</td>\n",
              "      <td>23.0</td>\n",
              "      <td>0</td>\n",
              "    </tr>\n",
              "    <tr>\n",
              "      <th>76827</th>\n",
              "      <td>UgxuUX30EOiyNAr170B4AaABAg.8uEP7Z3CJ7A8uESucWimxD</td>\n",
              "      <td>Тимур Исаев</td>\n",
              "      <td>UCjCfBEVrPQ6K1a9J4_N_QVQ</td>\n",
              "      <td>Идейный точно.</td>\n",
              "      <td>1</td>\n",
              "      <td>2019-04-27T16:00:06.000Z</td>\n",
              "      <td>2019-04-27T16:00:06.000Z</td>\n",
              "      <td>0</td>\n",
              "      <td>UgxuUX30EOiyNAr170B4AaABAg</td>\n",
              "      <td>23.0</td>\n",
              "      <td>0</td>\n",
              "    </tr>\n",
              "    <tr>\n",
              "      <th>97264</th>\n",
              "      <td>UgyELuUvs5hxzItYAzF4AaABAg.8uCFUyXir6G8uCHb95-Mds</td>\n",
              "      <td>Тимур Исаев</td>\n",
              "      <td>UCjCfBEVrPQ6K1a9J4_N_QVQ</td>\n",
              "      <td>Чего? С самого начала автор озвучил конкретную...</td>\n",
              "      <td>0</td>\n",
              "      <td>2019-04-26T19:42:50.000Z</td>\n",
              "      <td>2019-04-26T19:42:50.000Z</td>\n",
              "      <td>0</td>\n",
              "      <td>UgyELuUvs5hxzItYAzF4AaABAg</td>\n",
              "      <td>23.0</td>\n",
              "      <td>0</td>\n",
              "    </tr>\n",
              "    <tr>\n",
              "      <th>99405</th>\n",
              "      <td>UgyFqyclxb9W3uiidtx4AaABAg.8uEP54Zp5wI8uEUk6hl6QS</td>\n",
              "      <td>Тимур Исаев</td>\n",
              "      <td>UCjCfBEVrPQ6K1a9J4_N_QVQ</td>\n",
              "      <td>Нет.</td>\n",
              "      <td>0</td>\n",
              "      <td>2019-04-27T16:16:08.000Z</td>\n",
              "      <td>2019-04-27T16:16:08.000Z</td>\n",
              "      <td>0</td>\n",
              "      <td>UgyFqyclxb9W3uiidtx4AaABAg</td>\n",
              "      <td>23.0</td>\n",
              "      <td>0</td>\n",
              "    </tr>\n",
              "    <tr>\n",
              "      <th>124720</th>\n",
              "      <td>UgyZFFi4RuLC1mm1PPh4AaABAg.8uEQFKd4r9v8uEQfoGnj6h</td>\n",
              "      <td>Тимур Исаев</td>\n",
              "      <td>UCjCfBEVrPQ6K1a9J4_N_QVQ</td>\n",
              "      <td>Привет солидаристам</td>\n",
              "      <td>0</td>\n",
              "      <td>2019-04-27T15:40:36.000Z</td>\n",
              "      <td>2019-04-27T15:40:36.000Z</td>\n",
              "      <td>0</td>\n",
              "      <td>UgyZFFi4RuLC1mm1PPh4AaABAg</td>\n",
              "      <td>23.0</td>\n",
              "      <td>0</td>\n",
              "    </tr>\n",
              "    <tr>\n",
              "      <th>138530</th>\n",
              "      <td>UgzEMwssm-fpE1OHzfJ4AaABAg.8uG2BPu1Yo28uG6p12OFbZ</td>\n",
              "      <td>Тимур Исаев</td>\n",
              "      <td>UCjCfBEVrPQ6K1a9J4_N_QVQ</td>\n",
              "      <td>Заплатили или не заплатили</td>\n",
              "      <td>0</td>\n",
              "      <td>2019-04-28T07:25:34.000Z</td>\n",
              "      <td>2019-04-28T07:25:34.000Z</td>\n",
              "      <td>0</td>\n",
              "      <td>UgzEMwssm-fpE1OHzfJ4AaABAg</td>\n",
              "      <td>23.0</td>\n",
              "      <td>0</td>\n",
              "    </tr>\n",
              "    <tr>\n",
              "      <th>138532</th>\n",
              "      <td>UgzEMwssm-fpE1OHzfJ4AaABAg.8uG2BPu1Yo28uGJhVKwOvz</td>\n",
              "      <td>Тимур Исаев</td>\n",
              "      <td>UCjCfBEVrPQ6K1a9J4_N_QVQ</td>\n",
              "      <td>@Vladimir Vvl сегодня у мамы 1950 года рождени...</td>\n",
              "      <td>0</td>\n",
              "      <td>2019-04-28T09:18:08.000Z</td>\n",
              "      <td>2019-04-28T09:18:08.000Z</td>\n",
              "      <td>0</td>\n",
              "      <td>UgzEMwssm-fpE1OHzfJ4AaABAg</td>\n",
              "      <td>23.0</td>\n",
              "      <td>0</td>\n",
              "    </tr>\n",
              "    <tr>\n",
              "      <th>139757</th>\n",
              "      <td>UgzfIIGRUTrcjVMew2t4AaABAg.8uK0V7Hr8pv8uK2uWfVOyb</td>\n",
              "      <td>Тимур Исаев</td>\n",
              "      <td>UCjCfBEVrPQ6K1a9J4_N_QVQ</td>\n",
              "      <td>Так они сами воруют или могут украсть, вот и б...</td>\n",
              "      <td>0</td>\n",
              "      <td>2019-04-29T20:08:20.000Z</td>\n",
              "      <td>2019-04-29T20:08:20.000Z</td>\n",
              "      <td>0</td>\n",
              "      <td>UgzfIIGRUTrcjVMew2t4AaABAg</td>\n",
              "      <td>23.0</td>\n",
              "      <td>0</td>\n",
              "    </tr>\n",
              "    <tr>\n",
              "      <th>161771</th>\n",
              "      <td>UgzwAaKXQRe1xxqMd-h4AaABAg.8uEPS-L9pOI8uESdIIzor-</td>\n",
              "      <td>Тимур Исаев</td>\n",
              "      <td>UCjCfBEVrPQ6K1a9J4_N_QVQ</td>\n",
              "      <td>Как женщина пишешь.</td>\n",
              "      <td>0</td>\n",
              "      <td>2019-04-27T15:57:44.000Z</td>\n",
              "      <td>2019-04-27T15:57:44.000Z</td>\n",
              "      <td>0</td>\n",
              "      <td>UgzwAaKXQRe1xxqMd-h4AaABAg</td>\n",
              "      <td>23.0</td>\n",
              "      <td>0</td>\n",
              "    </tr>\n",
              "    <tr>\n",
              "      <th>166695</th>\n",
              "      <td>UgzZZvtnpiasHtwtmc54AaABAg.8uDrmTSOpCE8uDsir-uPr0</td>\n",
              "      <td>Тимур Исаев</td>\n",
              "      <td>UCjCfBEVrPQ6K1a9J4_N_QVQ</td>\n",
              "      <td>Стукачём, причём идейным. От таких скорее всег...</td>\n",
              "      <td>0</td>\n",
              "      <td>2019-04-27T10:35:10.000Z</td>\n",
              "      <td>2019-04-27T10:35:10.000Z</td>\n",
              "      <td>0</td>\n",
              "      <td>UgzZZvtnpiasHtwtmc54AaABAg</td>\n",
              "      <td>23.0</td>\n",
              "      <td>0</td>\n",
              "    </tr>\n",
              "  </tbody>\n",
              "</table>\n",
              "</div>"
            ],
            "text/plain": [
              "                                               Comment ID  ... type\n",
              "632     Ugw-_JzmFz9pKtRfPSF4AaABAg.8uG_U0VQpon8uGaGX7hBvC  ...    0\n",
              "634     Ugw-_JzmFz9pKtRfPSF4AaABAg.8uG_U0VQpon8uGdJsBEXTp  ...    0\n",
              "11118   UgwctpPVPH9azqd1UNx4AaABAg.8uEPU9FTkA68uE_j9nDoZZ  ...    0\n",
              "11119   UgwctpPVPH9azqd1UNx4AaABAg.8uEPU9FTkA68uEezlxziPw  ...    0\n",
              "11121   UgwctpPVPH9azqd1UNx4AaABAg.8uEPU9FTkA68uEipykpNqj  ...    0\n",
              "11123   UgwctpPVPH9azqd1UNx4AaABAg.8uEPU9FTkA68uEmBy97zbk  ...    0\n",
              "11125   UgwctpPVPH9azqd1UNx4AaABAg.8uEPU9FTkA68uESUE9Y-Pw  ...    0\n",
              "11127   UgwctpPVPH9azqd1UNx4AaABAg.8uEPU9FTkA68uGyYrKEJu7  ...    0\n",
              "11128   UgwctpPVPH9azqd1UNx4AaABAg.8uEPU9FTkA68uGzVSgonAK  ...    0\n",
              "11130   UgwctpPVPH9azqd1UNx4AaABAg.8uEPU9FTkA68uHA72VA9HI  ...    0\n",
              "38661   UgwYFDumEdnFWqf9Kg54AaABAg.8uK07YwyXGq8uK3tEajWtP  ...    0\n",
              "62909   UgxJmWtMSYntxTs235F4AaABAg.8uK-WqDIDld8uK4uU5vQ7j  ...    0\n",
              "66658   UgxmMGgcGVzAv0JRU3N4AaABAg.8uK0fKthEB78uK2ZCLn8Yl  ...    0\n",
              "73387   UgxrZHdzw8GgCKDfDCx4AaABAg.8uG1K2CWZN-8uG7P-vkJim  ...    0\n",
              "76827   UgxuUX30EOiyNAr170B4AaABAg.8uEP7Z3CJ7A8uESucWimxD  ...    0\n",
              "97264   UgyELuUvs5hxzItYAzF4AaABAg.8uCFUyXir6G8uCHb95-Mds  ...    0\n",
              "99405   UgyFqyclxb9W3uiidtx4AaABAg.8uEP54Zp5wI8uEUk6hl6QS  ...    0\n",
              "124720  UgyZFFi4RuLC1mm1PPh4AaABAg.8uEQFKd4r9v8uEQfoGnj6h  ...    0\n",
              "138530  UgzEMwssm-fpE1OHzfJ4AaABAg.8uG2BPu1Yo28uG6p12OFbZ  ...    0\n",
              "138532  UgzEMwssm-fpE1OHzfJ4AaABAg.8uG2BPu1Yo28uGJhVKwOvz  ...    0\n",
              "139757  UgzfIIGRUTrcjVMew2t4AaABAg.8uK0V7Hr8pv8uK2uWfVOyb  ...    0\n",
              "161771  UgzwAaKXQRe1xxqMd-h4AaABAg.8uEPS-L9pOI8uESdIIzor-  ...    0\n",
              "166695  UgzZZvtnpiasHtwtmc54AaABAg.8uDrmTSOpCE8uDsir-uPr0  ...    0\n",
              "\n",
              "[23 rows x 11 columns]"
            ]
          },
          "metadata": {
            "tags": []
          },
          "execution_count": 23
        }
      ]
    },
    {
      "cell_type": "markdown",
      "metadata": {
        "id": "5tprMmaX8rjC"
      },
      "source": [
        "# Learning our types\n",
        "\n",
        "> type 2 - maybe bot, type 1 - like more then 4, type 0 others\n",
        "\n"
      ]
    },
    {
      "cell_type": "markdown",
      "metadata": {
        "id": "NSOw_aYbmcrV"
      },
      "source": [
        "Мы выявляли ботов по признаку - количество коментариев и реплаев, если оно было больше порога 50 мы предпологаем, что данного человека можно считать ботом. Почему например не сделать порог 20 - выше преведен пример, где Тимур Исаев за 3 дня пишет 23 реплая. Но как мы видим из графика появлений (occurs) изменение порога не столь существенное, если мы даже ошиблись то запишим или не запишим в боты всего 1000 человек - примерно столько в интервале от 20 ответов до 50, то есть ошибка менее 1%. По этой же причине делать глубокий анализ с подключением других признаков: времени посещения, учета коментария на который был ответ смысла не имеет. Но все же что бы не быть голословными и не судить по единственному примеру, методами машинного обучения мы решили посмотреть насколько отличимы друг от друга 3 группы коментариев (Боты, Лайкнутые, Остальные) и отрегулировать пороги когда считать коментарий принадлижащий той или иной группе в зависимости от качества обучения классификации на эти группы. Более менее ощутимое различие появилось при порогах 50 появлений для группы ботов, и 6 для группы Лайкнутых, как видно лучше всего машина научилась отличать ботов."
      ]
    },
    {
      "cell_type": "code",
      "metadata": {
        "id": "4YLn7K3vBE3m"
      },
      "source": [
        "with open(project_dir + 'lemmas_all.pickle', 'rb') as handle:\n",
        "    lemmas = pickle.load(handle)\n",
        "df['Lemmas'] = lemmas#text_transformer_back_up(data_words, step=10000)"
      ],
      "execution_count": null,
      "outputs": []
    },
    {
      "cell_type": "code",
      "metadata": {
        "id": "NhroFCbs-XtG"
      },
      "source": [
        "from sklearn.model_selection import train_test_split\n",
        "from sklearn.feature_extraction.text import CountVectorizer\n",
        "from sklearn.feature_extraction.text import TfidfTransformer\n",
        "from sklearn.feature_extraction.text import TfidfVectorizer\n",
        "from sklearn.naive_bayes import MultinomialNB\n",
        "from sklearn.metrics import accuracy_score\n",
        "from sklearn.base import BaseEstimator\n",
        "\n",
        "from sklearn.linear_model import LogisticRegression\n",
        "from sklearn.ensemble import RandomForestClassifier\n",
        "from sklearn.svm import LinearSVC\n",
        "import numpy as np\n"
      ],
      "execution_count": null,
      "outputs": []
    },
    {
      "cell_type": "code",
      "metadata": {
        "id": "eHLa6HbM4wZJ",
        "colab": {
          "base_uri": "https://localhost:8080/"
        },
        "outputId": "27cdcdc8-5f9b-42d4-df71-306152268291"
      },
      "source": [
        "X_train, X_test, y_train, y_test = [None] * 4\n",
        "for i in range(3):\n",
        "  a, b, c, d = train_test_split(df[df['type']==i]['Lemmas'], df[df['type']==i]['type'], random_state=0, train_size=10000, test_size=3000)\n",
        "  print(d.shape)\n",
        "  if X_train is None:\n",
        "    X_train, X_test, y_train, y_test = a, b, c, d\n",
        "  else:\n",
        "    X_train, X_test, y_train, y_test = np.hstack([X_train, a]), np.hstack([X_test, b]), np.hstack([y_train, c]), np.hstack([y_test, d])"
      ],
      "execution_count": null,
      "outputs": [
        {
          "output_type": "stream",
          "text": [
            "(3000,)\n",
            "(3000,)\n",
            "(3000,)\n"
          ],
          "name": "stdout"
        }
      ]
    },
    {
      "cell_type": "code",
      "metadata": {
        "id": "QPbSiPCG9IDr",
        "colab": {
          "base_uri": "https://localhost:8080/"
        },
        "outputId": "6a925a41-f89a-4047-94a5-16d8ed2be8d5"
      },
      "source": [
        "sum(y_test==1)"
      ],
      "execution_count": null,
      "outputs": [
        {
          "output_type": "execute_result",
          "data": {
            "text/plain": [
              "3000"
            ]
          },
          "metadata": {
            "tags": []
          },
          "execution_count": 27
        }
      ]
    },
    {
      "cell_type": "code",
      "metadata": {
        "id": "IcL_pV5JAyT3",
        "colab": {
          "base_uri": "https://localhost:8080/"
        },
        "outputId": "f9fcd534-87f3-49e5-e1dc-1440f02150ae"
      },
      "source": [
        "#from sklearn.feature_extraction.text import TfidfVectorizer\n",
        "tfidf = TfidfVectorizer(sublinear_tf=True, min_df=5, norm='l2', max_features=10000, encoding='latin-1', ngram_range=(1, 2))#, stop_words='english')\n",
        "features = tfidf.fit_transform(X_train, y_train).toarray()\n",
        "labels = y_train.astype(int)\n",
        "features.shape"
      ],
      "execution_count": null,
      "outputs": [
        {
          "output_type": "execute_result",
          "data": {
            "text/plain": [
              "(30000, 10000)"
            ]
          },
          "metadata": {
            "tags": []
          },
          "execution_count": 28
        }
      ]
    },
    {
      "cell_type": "code",
      "metadata": {
        "id": "fXypxU1b9IGc",
        "colab": {
          "base_uri": "https://localhost:8080/"
        },
        "outputId": "f1f7a258-d757-47fc-b4fa-04fe69fc7ea4"
      },
      "source": [
        "from sklearn.feature_selection import chi2\n",
        "import numpy as np\n",
        "N = 2\n",
        "for category_id in ([0,1,2]): #sorted(.items()):\n",
        "  print(11, category_id)\n",
        "  features_chi2 = chi2(features, labels == category_id)\n",
        "  indices = np.argsort(features_chi2[0])\n",
        "  feature_names = np.array(tfidf.get_feature_names())[indices]\n",
        "  unigrams = [v for v in feature_names if len(v.split(' ')) == 1]\n",
        "  bigrams = [v for v in feature_names if len(v.split(' ')) == 2]\n",
        "  print(\"# '{}':\".format(category_id))\n",
        "  print(\"  . Most correlated unigrams:\\n. {}\".format('\\n. '.join(unigrams[-N:])))\n",
        "  print(\"  . Most correlated bigrams:\\n. {}\".format('\\n. '.join(bigrams[-N:])))"
      ],
      "execution_count": null,
      "outputs": [
        {
          "output_type": "stream",
          "text": [
            "11 0\n",
            "# '0':\n",
            "  . Most correlated unigrams:\n",
            ". пригожинский\n",
            ". убогий\n",
            "  . Most correlated bigrams:\n",
            ". пригожинский тролль\n",
            ". убогий пригожинский\n",
            "11 1\n",
            "# '1':\n",
            "  . Most correlated unigrams:\n",
            ". пригожинский\n",
            ". тролль\n",
            "  . Most correlated bigrams:\n",
            ". пригожинский тролль\n",
            ". убогий пригожинский\n",
            "11 2\n",
            "# '2':\n",
            "  . Most correlated unigrams:\n",
            ". тролль\n",
            ". убогий\n",
            "  . Most correlated bigrams:\n",
            ". пригожинский тролль\n",
            ". убогий пригожинский\n"
          ],
          "name": "stdout"
        }
      ]
    },
    {
      "cell_type": "code",
      "metadata": {
        "id": "nwKHpR-W9IW5"
      },
      "source": [
        "#X_train, X_test, y_train, y_test = train_test_split(df['Consumer_complaint_narrative'], df['Product'], random_state = 0)\n",
        "count_vect = CountVectorizer()\n",
        "X_train_counts = count_vect.fit_transform(X_train)\n",
        "tfidf_transformer = TfidfTransformer()\n",
        "X_train_tfidf = tfidf_transformer.fit_transform(X_train_counts, y_train)\n",
        "clf =  LinearSVC().fit(X_train_tfidf, y_train)#MultinomialNB().fit(X_train_tfidf, y_train)"
      ],
      "execution_count": null,
      "outputs": []
    },
    {
      "cell_type": "code",
      "metadata": {
        "id": "79BzPBmd4wcF",
        "colab": {
          "base_uri": "https://localhost:8080/"
        },
        "outputId": "1766a08d-9078-403b-de8d-8b9cb4b079e9"
      },
      "source": [
        "X_test_counts = count_vect.transform(X_test)\n",
        "X_test_tfidf = tfidf_transformer.transform(X_test_counts)\n",
        "clf.score(X_test_tfidf, y_test)"
      ],
      "execution_count": null,
      "outputs": [
        {
          "output_type": "execute_result",
          "data": {
            "text/plain": [
              "0.5127777777777778"
            ]
          },
          "metadata": {
            "tags": []
          },
          "execution_count": 31
        }
      ]
    },
    {
      "cell_type": "code",
      "metadata": {
        "colab": {
          "base_uri": "https://localhost:8080/"
        },
        "id": "2_mU2-UgGnBg",
        "outputId": "7db20f18-86fb-4ab2-e2aa-58dfa58f8a1d"
      },
      "source": [
        "from sklearn.metrics import classification_report\n",
        "\n",
        "print(classification_report(clf.predict(X_test_tfidf), y_test, [0,1,2]))"
      ],
      "execution_count": null,
      "outputs": [
        {
          "output_type": "stream",
          "text": [
            "              precision    recall  f1-score   support\n",
            "\n",
            "           0       0.38      0.42      0.40      2671\n",
            "           1       0.53      0.51      0.52      3098\n",
            "           2       0.64      0.59      0.61      3231\n",
            "\n",
            "    accuracy                           0.51      9000\n",
            "   macro avg       0.51      0.51      0.51      9000\n",
            "weighted avg       0.52      0.51      0.52      9000\n",
            "\n"
          ],
          "name": "stdout"
        }
      ]
    },
    {
      "cell_type": "markdown",
      "metadata": {
        "id": "JEX8SJo9KJeW"
      },
      "source": [
        "## Выкиним ботов."
      ]
    },
    {
      "cell_type": "code",
      "metadata": {
        "id": "543CkfuAKIqI"
      },
      "source": [
        "len(df[df['type'] != 2])\n",
        "X_train, X_test, y_train, y_test = train_test_split(df[df['type']!=2]['Lemmas'], df[df['type']!=2]['type'], random_state=0, train_size=50000, test_size=3000)"
      ],
      "execution_count": null,
      "outputs": []
    },
    {
      "cell_type": "code",
      "metadata": {
        "id": "xM8sWstqKTvd",
        "colab": {
          "base_uri": "https://localhost:8080/"
        },
        "outputId": "ebe0392f-995d-46fb-b609-5b36387c7855"
      },
      "source": [
        "# !! This is most important string - we create and learn our tfidf model (on coments without bots)!!\n",
        "tfidf = TfidfVectorizer(sublinear_tf=True, min_df=5, norm='l2', encoding='latin-1', ngram_range=(1, 2))#, stop_words='english')\n",
        "features = tfidf.fit_transform(X_train, y_train).toarray() # here \"fit_transform\" and below every where just \"transform\" (fit - mean learning)\n",
        "labels = y_train.astype(int)\n",
        "features.shape"
      ],
      "execution_count": null,
      "outputs": [
        {
          "output_type": "execute_result",
          "data": {
            "text/plain": [
              "(50000, 20115)"
            ]
          },
          "metadata": {
            "tags": []
          },
          "execution_count": 34
        }
      ]
    },
    {
      "cell_type": "code",
      "metadata": {
        "id": "AP9yQG20KTvq",
        "colab": {
          "base_uri": "https://localhost:8080/"
        },
        "outputId": "666ca035-79f9-4f09-fde5-670320811e69"
      },
      "source": [
        "from sklearn.feature_selection import chi2\n",
        "import numpy as np\n",
        "N = 5\n",
        "for category_id in ([0,1,2,3,4,5,6,7,8]): #sorted(.items()):\n",
        "  print(11, category_id)\n",
        "  features_chi2 = chi2(features, labels == category_id)\n",
        "  indices = np.argsort(features_chi2[0])\n",
        "  feature_names = np.array(tfidf.get_feature_names())[indices]\n",
        "  unigrams = [v for v in feature_names if len(v.split(' ')) == 1]\n",
        "  bigrams = [v for v in feature_names if len(v.split(' ')) == 2]\n",
        "  print(\"# '{}':\".format(category_id))\n",
        "  print(\"  . Most correlated unigrams:\\n. {}\".format('\\n. '.join(unigrams[-N:])))\n",
        "  print(\"  . Most correlated bigrams:\\n. {}\".format('\\n. '.join(bigrams[-N:])))"
      ],
      "execution_count": null,
      "outputs": [
        {
          "output_type": "stream",
          "text": [
            "11 0\n",
            "# '0':\n",
            "  . Most correlated unigrams:\n",
            ". выпуск\n",
            ". огромный\n",
            ". человечище\n",
            ". фильм\n",
            ". команда\n",
            "  . Most correlated bigrams:\n",
            ". хуи убогий\n",
            ". кремлебот сталинист\n",
            ". огромный уважение\n",
            ". выпуск канал\n",
            ". слеза глаз\n",
            "11 1\n",
            "# '1':\n",
            "  . Most correlated unigrams:\n",
            ". выпуск\n",
            ". огромный\n",
            ". человечище\n",
            ". фильм\n",
            ". команда\n",
            "  . Most correlated bigrams:\n",
            ". хуи убогий\n",
            ". кремлебот сталинист\n",
            ". огромный уважение\n",
            ". выпуск канал\n",
            ". слеза глаз\n",
            "11 2\n",
            "# '2':\n",
            "  . Most correlated unigrams:\n",
            ". корабль\n",
            ". коптер\n",
            ". копнуть\n",
            ". коренной\n",
            ". ящик\n",
            "  . Most correlated bigrams:\n",
            ". король делать\n",
            ". копаться циферка\n",
            ". кончить мразь\n",
            ". коренной население\n",
            ". коренной народ\n",
            "11 3\n",
            "# '3':\n",
            "  . Most correlated unigrams:\n",
            ". корабль\n",
            ". коптер\n",
            ". копнуть\n",
            ". коренной\n",
            ". ящик\n",
            "  . Most correlated bigrams:\n",
            ". король делать\n",
            ". копаться циферка\n",
            ". кончить мразь\n",
            ". коренной население\n",
            ". коренной народ\n",
            "11 4\n",
            "# '4':\n",
            "  . Most correlated unigrams:\n",
            ". корабль\n",
            ". коптер\n",
            ". копнуть\n",
            ". коренной\n",
            ". ящик\n",
            "  . Most correlated bigrams:\n",
            ". король делать\n",
            ". копаться циферка\n",
            ". кончить мразь\n",
            ". коренной население\n",
            ". коренной народ\n",
            "11 5\n",
            "# '5':\n",
            "  . Most correlated unigrams:\n",
            ". корабль\n",
            ". коптер\n",
            ". копнуть\n",
            ". коренной\n",
            ". ящик\n",
            "  . Most correlated bigrams:\n",
            ". король делать\n",
            ". копаться циферка\n",
            ". кончить мразь\n",
            ". коренной население\n",
            ". коренной народ\n",
            "11 6\n",
            "# '6':\n",
            "  . Most correlated unigrams:\n",
            ". корабль\n",
            ". коптер\n",
            ". копнуть\n",
            ". коренной\n",
            ". ящик\n",
            "  . Most correlated bigrams:\n",
            ". король делать\n",
            ". копаться циферка\n",
            ". кончить мразь\n",
            ". коренной население\n",
            ". коренной народ\n",
            "11 7\n",
            "# '7':\n",
            "  . Most correlated unigrams:\n",
            ". корабль\n",
            ". коптер\n",
            ". копнуть\n",
            ". коренной\n",
            ". ящик\n",
            "  . Most correlated bigrams:\n",
            ". король делать\n",
            ". копаться циферка\n",
            ". кончить мразь\n",
            ". коренной население\n",
            ". коренной народ\n",
            "11 8\n",
            "# '8':\n",
            "  . Most correlated unigrams:\n",
            ". корабль\n",
            ". коптер\n",
            ". копнуть\n",
            ". коренной\n",
            ". ящик\n",
            "  . Most correlated bigrams:\n",
            ". король делать\n",
            ". копаться циферка\n",
            ". кончить мразь\n",
            ". коренной население\n",
            ". коренной народ\n"
          ],
          "name": "stdout"
        }
      ]
    },
    {
      "cell_type": "markdown",
      "metadata": {
        "id": "pjstVi8-694h"
      },
      "source": [
        "# Marcked data"
      ]
    },
    {
      "cell_type": "markdown",
      "metadata": {
        "id": "V8VAEv5TrMkf"
      },
      "source": [
        "Здесь мы работаем с размеченной выборкой из 1600 случайно отобранных коментариев. Проблема в том что выборка очень маленькая и не сбалансированная по представленным классам. График прилагается, при обучении видно что модель предсказывает только 4 класса из 7. Первые 2 и последний предсказывает не плохо, а вот 3й не смотря на достаточное присутствие плохо."
      ]
    },
    {
      "cell_type": "code",
      "metadata": {
        "colab": {
          "base_uri": "https://localhost:8080/",
          "height": 297
        },
        "id": "8LEB1ZGMa1eY",
        "outputId": "ab0b52c9-ddd7-4a22-f96f-f1d584f8b828"
      },
      "source": [
        "import pandas as pd\n",
        "import matplotlib.pyplot as plt\n",
        "mrkdf = pd.read_excel(project_dir + 'NEURONET/Coments.xlsx')\n",
        "COMENT_COL = \"Comment Text\"\n",
        "THEME_COL =  \"Theme\"# \"T1_9\" or \"респондент Сергей:\"\n",
        "mrkdf['Theme'] -= 1\n",
        "mrkdf = mrkdf.dropna()\n",
        "mrkdf.head()"
      ],
      "execution_count": null,
      "outputs": [
        {
          "output_type": "execute_result",
          "data": {
            "text/html": [
              "<div>\n",
              "<style scoped>\n",
              "    .dataframe tbody tr th:only-of-type {\n",
              "        vertical-align: middle;\n",
              "    }\n",
              "\n",
              "    .dataframe tbody tr th {\n",
              "        vertical-align: top;\n",
              "    }\n",
              "\n",
              "    .dataframe thead th {\n",
              "        text-align: right;\n",
              "    }\n",
              "</style>\n",
              "<table border=\"1\" class=\"dataframe\">\n",
              "  <thead>\n",
              "    <tr style=\"text-align: right;\">\n",
              "      <th></th>\n",
              "      <th>Unnamed: 0</th>\n",
              "      <th>n</th>\n",
              "      <th>Comment ID</th>\n",
              "      <th>Author Name</th>\n",
              "      <th>Comment Text</th>\n",
              "      <th>Theme</th>\n",
              "      <th>Likes</th>\n",
              "      <th>Comment created</th>\n",
              "      <th>random</th>\n",
              "      <th>Reply count</th>\n",
              "      <th>Sentiment_prob</th>\n",
              "      <th>Sentiment_cls</th>\n",
              "      <th>Lemmas</th>\n",
              "    </tr>\n",
              "  </thead>\n",
              "  <tbody>\n",
              "    <tr>\n",
              "      <th>0</th>\n",
              "      <td>0</td>\n",
              "      <td>77610</td>\n",
              "      <td>UgxvLWBhE17Z7OJA_tZ4AaABAg</td>\n",
              "      <td>yanazarova</td>\n",
              "      <td>Юра, очень круто!</td>\n",
              "      <td>6</td>\n",
              "      <td>0</td>\n",
              "      <td>2019-04-26T15:45:50.000Z</td>\n",
              "      <td>0.999996</td>\n",
              "      <td>0</td>\n",
              "      <td>positive</td>\n",
              "      <td>1.000010</td>\n",
              "      <td>юра очень крутой</td>\n",
              "    </tr>\n",
              "    <tr>\n",
              "      <th>1</th>\n",
              "      <td>1</td>\n",
              "      <td>78173</td>\n",
              "      <td>UgxW2_cHRlVDjcQ788N4AaABAg</td>\n",
              "      <td>Dariya Barberry</td>\n",
              "      <td>Юра, спасибо! Такой труд.   И за субтитры - от...</td>\n",
              "      <td>6</td>\n",
              "      <td>17</td>\n",
              "      <td>2019-05-12T16:12:20.000Z</td>\n",
              "      <td>0.999991</td>\n",
              "      <td>0</td>\n",
              "      <td>speech</td>\n",
              "      <td>0.984104</td>\n",
              "      <td>юра спасибо таковать труд субтитр отдельный сп...</td>\n",
              "    </tr>\n",
              "    <tr>\n",
              "      <th>2</th>\n",
              "      <td>2</td>\n",
              "      <td>2244</td>\n",
              "      <td>Ugw1kzJsH4f1JIC8Ubx4AaABAg</td>\n",
              "      <td>Алекс Иванов</td>\n",
              "      <td>Ком в горле...</td>\n",
              "      <td>1</td>\n",
              "      <td>1</td>\n",
              "      <td>2019-04-24T18:26:36.000Z</td>\n",
              "      <td>0.999971</td>\n",
              "      <td>0</td>\n",
              "      <td>neutral</td>\n",
              "      <td>0.600198</td>\n",
              "      <td>ком горло</td>\n",
              "    </tr>\n",
              "    <tr>\n",
              "      <th>3</th>\n",
              "      <td>3</td>\n",
              "      <td>114527</td>\n",
              "      <td>UgyRbVOy_rIOargQxqV4AaABAg</td>\n",
              "      <td>Stanislav Palekha2</td>\n",
              "      <td>В Архангельске на несанкционированном антимусо...</td>\n",
              "      <td>2</td>\n",
              "      <td>2</td>\n",
              "      <td>2019-04-29T00:11:44.000Z</td>\n",
              "      <td>0.999967</td>\n",
              "      <td>0</td>\n",
              "      <td>neutral</td>\n",
              "      <td>0.629785</td>\n",
              "      <td>архангельск антимусорный шествие первый ряд му...</td>\n",
              "    </tr>\n",
              "    <tr>\n",
              "      <th>4</th>\n",
              "      <td>4</td>\n",
              "      <td>89673</td>\n",
              "      <td>Ugy8f206ZjcD0qdULbd4AaABAg</td>\n",
              "      <td>Алексей Стерников</td>\n",
              "      <td>Мир, всем и нам����</td>\n",
              "      <td>6</td>\n",
              "      <td>1</td>\n",
              "      <td>2019-04-29T22:49:24.000Z</td>\n",
              "      <td>0.999965</td>\n",
              "      <td>0</td>\n",
              "      <td>positive</td>\n",
              "      <td>0.156115</td>\n",
              "      <td>мир</td>\n",
              "    </tr>\n",
              "  </tbody>\n",
              "</table>\n",
              "</div>"
            ],
            "text/plain": [
              "   Unnamed: 0  ...                                             Lemmas\n",
              "0           0  ...                                   юра очень крутой\n",
              "1           1  ...  юра спасибо таковать труд субтитр отдельный сп...\n",
              "2           2  ...                                          ком горло\n",
              "3           3  ...  архангельск антимусорный шествие первый ряд му...\n",
              "4           4  ...                                                мир\n",
              "\n",
              "[5 rows x 13 columns]"
            ]
          },
          "metadata": {
            "tags": []
          },
          "execution_count": 36
        }
      ]
    },
    {
      "cell_type": "code",
      "metadata": {
        "colab": {
          "base_uri": "https://localhost:8080/",
          "height": 384
        },
        "id": "_wqvin5Jcj84",
        "outputId": "e8e7217a-e141-4da3-ae07-2bb41c496aba"
      },
      "source": [
        "fig = plt.figure(figsize=(8,6))\n",
        "mrkdf.groupby('Theme')['Comment Text'].count().plot.bar(ylim=0)\n",
        "plt.show()\n",
        "# Numbers of marked comments by Themes"
      ],
      "execution_count": null,
      "outputs": [
        {
          "output_type": "display_data",
          "data": {
            "image/png": "[encoded data removed]",
            "text/plain": [
              "<Figure size 576x432 with 1 Axes>"
            ]
          },
          "metadata": {
            "tags": [],
            "needs_background": "light"
          }
        }
      ]
    },
    {
      "cell_type": "code",
      "metadata": {
        "id": "ufGMCWP3a1hX",
        "colab": {
          "base_uri": "https://localhost:8080/"
        },
        "outputId": "986b09c9-24b9-4e0d-ca68-c780b8b5dbdb"
      },
      "source": [
        "X_train, X_test, y_train, y_test = train_test_split(mrkdf['Lemmas'], mrkdf['Theme'], random_state = 0, train_size=0.8, test_size=0.2)\n",
        "print('Обучающая и тестовая выборка кол-во (выкинули с пустой леммой):', len(X_train), len(X_test))"
      ],
      "execution_count": null,
      "outputs": [
        {
          "output_type": "stream",
          "text": [
            "Обучающая и тестовая выборка кол-во (выкинули с пустой леммой): 1340 336\n"
          ],
          "name": "stdout"
        }
      ]
    },
    {
      "cell_type": "code",
      "metadata": {
        "id": "uYOJF4rua3Pu",
        "colab": {
          "base_uri": "https://localhost:8080/"
        },
        "outputId": "87a127ad-9a36-4951-f7e4-08a3ba7ecf36"
      },
      "source": [
        "# Create and learn model\n",
        "X_train_tfidf = tfidf.transform(X_train)\n",
        "clf =  LinearSVC().fit(X_train_tfidf, y_train)\n",
        "X_train_tfidf.shape"
      ],
      "execution_count": null,
      "outputs": [
        {
          "output_type": "execute_result",
          "data": {
            "text/plain": [
              "(1340, 20115)"
            ]
          },
          "metadata": {
            "tags": []
          },
          "execution_count": 39
        }
      ]
    },
    {
      "cell_type": "code",
      "metadata": {
        "id": "hf-M-qwpa3St",
        "colab": {
          "base_uri": "https://localhost:8080/"
        },
        "outputId": "0b7713ae-6804-4700-9800-fa24d80917bf"
      },
      "source": [
        "X_test_counts = count_vect.transform(X_test)\n",
        "X_test_tfidf = tfidf.transform(X_test)\n",
        "print(clf.score(X_test_tfidf, y_test), X_test_tfidf.shape)\n",
        "report = classification_report(y_test, clf.predict(X_test_tfidf), range(7)) # !!\n",
        "print(report)"
      ],
      "execution_count": null,
      "outputs": [
        {
          "output_type": "stream",
          "text": [
            "0.6190476190476191 (336, 20115)\n",
            "              precision    recall  f1-score   support\n",
            "\n",
            "           0       0.47      0.32      0.38        25\n",
            "           1       0.48      0.53      0.51        73\n",
            "           2       0.31      0.14      0.20        35\n",
            "           3       0.00      0.00      0.00         5\n",
            "           4       0.00      0.00      0.00         9\n",
            "           5       0.00      0.00      0.00         6\n",
            "           6       0.70      0.85      0.77       183\n",
            "\n",
            "    accuracy                           0.62       336\n",
            "   macro avg       0.28      0.26      0.26       336\n",
            "weighted avg       0.55      0.62      0.58       336\n",
            "\n"
          ],
          "name": "stdout"
        },
        {
          "output_type": "stream",
          "text": [
            "/usr/local/lib/python3.7/dist-packages/sklearn/metrics/_classification.py:1272: UndefinedMetricWarning: Precision and F-score are ill-defined and being set to 0.0 in labels with no predicted samples. Use `zero_division` parameter to control this behavior.\n",
            "  _warn_prf(average, modifier, msg_start, len(result))\n"
          ],
          "name": "stderr"
        }
      ]
    },
    {
      "cell_type": "code",
      "metadata": {
        "id": "AmpioLT_a1nQ",
        "colab": {
          "base_uri": "https://localhost:8080/",
          "height": 264
        },
        "outputId": "9f9d92ca-c938-433e-83dc-359b12965e09"
      },
      "source": [
        "a, b = np.unique(y_test, return_counts=True)\n",
        "c, d = np.unique(clf.predict(X_test_tfidf), return_counts=True)\n",
        "ax = plt.subplot(111)\n",
        "ax.bar(a-0.2, b, width=0.5, color='b', align='center', label='true val')\n",
        "ax.bar(c, d, width=0.5, color='g', align='center', label='predict')\n",
        "ax.legend()\n",
        "plt.show()\n",
        "# Numbers of marked and predicted comments by Themes"
      ],
      "execution_count": null,
      "outputs": [
        {
          "output_type": "display_data",
          "data": {
            "image/png": "[encoded data removed]",
            "text/plain": [
              "<Figure size 432x288 with 1 Axes>"
            ]
          },
          "metadata": {
            "tags": [],
            "needs_background": "light"
          }
        }
      ]
    },
    {
      "cell_type": "markdown",
      "metadata": {
        "id": "djnSXdUx03eE"
      },
      "source": [
        "# Lets look what with new coments??"
      ]
    },
    {
      "cell_type": "code",
      "metadata": {
        "colab": {
          "base_uri": "https://localhost:8080/",
          "height": 197
        },
        "id": "y_jCzbqi02nH",
        "outputId": "1766f6f4-1270-4d80-c75e-5b6d7641903c"
      },
      "source": [
        "mrkdf2 = pd.read_excel(project_dir + 'NEURONET/2140comms.xlsx')\n",
        "mrkdf2.head()"
      ],
      "execution_count": null,
      "outputs": [
        {
          "output_type": "execute_result",
          "data": {
            "text/html": [
              "<div>\n",
              "<style scoped>\n",
              "    .dataframe tbody tr th:only-of-type {\n",
              "        vertical-align: middle;\n",
              "    }\n",
              "\n",
              "    .dataframe tbody tr th {\n",
              "        vertical-align: top;\n",
              "    }\n",
              "\n",
              "    .dataframe thead th {\n",
              "        text-align: right;\n",
              "    }\n",
              "</style>\n",
              "<table border=\"1\" class=\"dataframe\">\n",
              "  <thead>\n",
              "    <tr style=\"text-align: right;\">\n",
              "      <th></th>\n",
              "      <th>dindex</th>\n",
              "      <th>Comment Text</th>\n",
              "      <th>Theme</th>\n",
              "      <th>Likes</th>\n",
              "      <th>Reply count</th>\n",
              "    </tr>\n",
              "  </thead>\n",
              "  <tbody>\n",
              "    <tr>\n",
              "      <th>0</th>\n",
              "      <td>150010</td>\n",
              "      <td>\\\"Были бы под американцами\\\"(с) - 1. Интересно...</td>\n",
              "      <td>0</td>\n",
              "      <td>NaN</td>\n",
              "      <td>NaN</td>\n",
              "    </tr>\n",
              "    <tr>\n",
              "      <th>1</th>\n",
              "      <td>139224</td>\n",
              "      <td>Спасибо! А то подростки глупенькие , все стали...</td>\n",
              "      <td>2</td>\n",
              "      <td>NaN</td>\n",
              "      <td>NaN</td>\n",
              "    </tr>\n",
              "    <tr>\n",
              "      <th>2</th>\n",
              "      <td>82083</td>\n",
              "      <td>От куда у тебя только ненависть к Сталину?начи...</td>\n",
              "      <td>0</td>\n",
              "      <td>NaN</td>\n",
              "      <td>NaN</td>\n",
              "    </tr>\n",
              "    <tr>\n",
              "      <th>3</th>\n",
              "      <td>55066</td>\n",
              "      <td>Ну так.  Я это и так все знала. Может только д...</td>\n",
              "      <td>2</td>\n",
              "      <td>NaN</td>\n",
              "      <td>NaN</td>\n",
              "    </tr>\n",
              "    <tr>\n",
              "      <th>4</th>\n",
              "      <td>99270</td>\n",
              "      <td>Нормы питания заключенных ГУЛАГов и оплата тру...</td>\n",
              "      <td>0</td>\n",
              "      <td>NaN</td>\n",
              "      <td>NaN</td>\n",
              "    </tr>\n",
              "  </tbody>\n",
              "</table>\n",
              "</div>"
            ],
            "text/plain": [
              "   dindex  ... Reply count\n",
              "0  150010  ...         NaN\n",
              "1  139224  ...         NaN\n",
              "2   82083  ...         NaN\n",
              "3   55066  ...         NaN\n",
              "4   99270  ...         NaN\n",
              "\n",
              "[5 rows x 5 columns]"
            ]
          },
          "metadata": {
            "tags": []
          },
          "execution_count": 42
        }
      ]
    },
    {
      "cell_type": "code",
      "metadata": {
        "id": "DfdaVF-d3Bvv",
        "colab": {
          "base_uri": "https://localhost:8080/"
        },
        "outputId": "bd91ed08-6e0a-4034-98c3-ef22bd1b0047"
      },
      "source": [
        "X_train2, X_test2, y_train2, y_test2 = train_test_split(df.loc[mrkdf2.dindex]['Lemmas'], mrkdf2['Theme'], random_state = 0, train_size=0.7, test_size=0.3)\n",
        "X_train_tfidf2 = tfidf.transform(X_train2)\n",
        "\n",
        "print('Обучающая и тестовая выборка кол-во (выкинули с пустой леммой):', len(X_train2), len(X_test2))"
      ],
      "execution_count": null,
      "outputs": [
        {
          "output_type": "stream",
          "text": [
            "Обучающая и тестовая выборка кол-во (выкинули с пустой леммой): 294 126\n"
          ],
          "name": "stdout"
        }
      ]
    },
    {
      "cell_type": "code",
      "metadata": {
        "id": "IwpT2Qn02T-y",
        "colab": {
          "base_uri": "https://localhost:8080/",
          "height": 264
        },
        "outputId": "4790ced9-e8f0-4115-be86-100e1eb15a5c"
      },
      "source": [
        "a, b = np.unique(y_train2, return_counts=True)\n",
        "c, d = np.unique(clf.predict(X_train_tfidf2), return_counts=True)\n",
        "ax = plt.subplot(111)\n",
        "ax.bar(a-0.2, b, width=0.5, color='b', align='center', label='true val')\n",
        "ax.bar(c, d, width=0.5, color='g', align='center', label='predict')\n",
        "ax.legend()\n",
        "plt.show()"
      ],
      "execution_count": null,
      "outputs": [
        {
          "output_type": "display_data",
          "data": {
            "image/png": "[encoded data removed]",
            "text/plain": [
              "<Figure size 432x288 with 1 Axes>"
            ]
          },
          "metadata": {
            "tags": [],
            "needs_background": "light"
          }
        }
      ]
    },
    {
      "cell_type": "markdown",
      "metadata": {
        "id": "4pwdQrD14C_7"
      },
      "source": [
        "На графике видно, что 6 темы в разметке получилось очень мало благодаря умному отбору выборки - это как раз то что мы хотели. Так же видно что старая модель наоборот много коментариев ошибочно записывает в тему 6.** (почему?? - ведь изначально у нас коментарии без 6 темы по предсказаниям, но дело в том, что мы обучаемся на 0.8% от всей выборки1)\n",
        "Теперь посмотрим как модель предсказывает коментарии из новой выборки 0.44% Ожидаймо плохо, так как мы взяли самые сомнительные коментарии. Давайте дообучем модель и посмотрим на сколько она станет лучше на нашей прошлой тестовой выборке"
      ]
    },
    {
      "cell_type": "code",
      "metadata": {
        "id": "vzIdF6QU2UBW",
        "colab": {
          "base_uri": "https://localhost:8080/"
        },
        "outputId": "a7c220ab-9bed-4a30-c413-9a4985617fe0"
      },
      "source": [
        "X_test_tfidf = tfidf.transform(X_test2)\n",
        "print(\"Качество старой модели (которя обучена на 1300 коментов), на новых коментах еще хуже:\", clf.score(X_test_tfidf, y_test2))\n",
        "report = classification_report(y_test2, clf.predict(X_test_tfidf), range(7))\n",
        "print(report)"
      ],
      "execution_count": null,
      "outputs": [
        {
          "output_type": "stream",
          "text": [
            "Качество старой модели (которя обучена на 1300 коментов), на новых коментах еще хуже: 0.2857142857142857\n",
            "              precision    recall  f1-score   support\n",
            "\n",
            "           0       0.10      0.08      0.09        12\n",
            "           1       0.32      0.41      0.36        32\n",
            "           2       0.36      0.26      0.30        39\n",
            "           3       0.67      0.31      0.42        13\n",
            "           4       0.83      0.50      0.62        10\n",
            "           5       1.00      0.07      0.13        14\n",
            "           6       0.06      0.33      0.10         6\n",
            "\n",
            "    accuracy                           0.29       126\n",
            "   macro avg       0.48      0.28      0.29       126\n",
            "weighted avg       0.45      0.29      0.30       126\n",
            "\n"
          ],
          "name": "stdout"
        }
      ]
    },
    {
      "cell_type": "markdown",
      "metadata": {
        "id": "B3ub4ShLU72C"
      },
      "source": [
        "### Давайте занаво обучим модель на X_train и на X_train2 и на X_test2"
      ]
    },
    {
      "cell_type": "code",
      "metadata": {
        "id": "OMOQc82l02ql",
        "colab": {
          "base_uri": "https://localhost:8080/"
        },
        "outputId": "31c5120b-1690-41de-edc8-6f121bb9d5b6"
      },
      "source": [
        "X_train_tfidf = tfidf.transform(np.hstack([X_train, df.loc[mrkdf2.dindex]['Lemmas']]))\n",
        "clf =  LinearSVC().fit(X_train_tfidf, np.hstack([y_train, mrkdf2['Theme']])) # Create new model for all coments\n",
        "\n",
        "\n",
        "X_test_tfidf = tfidf.transform(X_test)\n",
        "print(clf.score(X_test_tfidf, y_test), 'Обучаемся на матрице:', X_train_tfidf.shape)\n",
        "report = classification_report(y_test, clf.predict(X_test_tfidf), range(7))\n",
        "print(report)"
      ],
      "execution_count": null,
      "outputs": [
        {
          "output_type": "stream",
          "text": [
            "0.6517857142857143 Обучаемся на матрице: (1760, 20115)\n",
            "              precision    recall  f1-score   support\n",
            "\n",
            "           0       0.59      0.40      0.48        25\n",
            "           1       0.50      0.55      0.52        73\n",
            "           2       0.31      0.31      0.31        35\n",
            "           3       1.00      0.40      0.57         5\n",
            "           4       1.00      0.11      0.20         9\n",
            "           5       1.00      0.50      0.67         6\n",
            "           6       0.77      0.83      0.80       183\n",
            "\n",
            "    accuracy                           0.65       336\n",
            "   macro avg       0.74      0.44      0.51       336\n",
            "weighted avg       0.66      0.65      0.64       336\n",
            "\n"
          ],
          "name": "stdout"
        }
      ]
    },
    {
      "cell_type": "code",
      "metadata": {
        "id": "VuJUaXfL02yA",
        "colab": {
          "base_uri": "https://localhost:8080/",
          "height": 264
        },
        "outputId": "e1b867c3-cd19-425d-c1ce-02ff780ae3eb"
      },
      "source": [
        "a, b = np.unique(y_test, return_counts=True)\n",
        "c, d = np.unique(clf.predict(X_test_tfidf), return_counts=True)\n",
        "ax = plt.subplot(111)\n",
        "ax.bar(a-0.2, b, width=0.5, color='b', align='center', label='true val')\n",
        "ax.bar(c, d, width=0.5, color='g', align='center', label='predict')\n",
        "ax.legend()\n",
        "plt.show()"
      ],
      "execution_count": null,
      "outputs": [
        {
          "output_type": "display_data",
          "data": {
            "image/png": "[encoded data removed]",
            "text/plain": [
              "<Figure size 432x288 with 1 Axes>"
            ]
          },
          "metadata": {
            "tags": [],
            "needs_background": "light"
          }
        }
      ]
    },
    {
      "cell_type": "markdown",
      "metadata": {
        "id": "Zk4ShiqaOagn"
      },
      "source": [
        "Отлично, качество улучшилось!! До 65 причем оно улучшилось в классах со 2го по 5й... Так что обучим модель на всех коментариях и все. Смотри самый конец"
      ]
    },
    {
      "cell_type": "code",
      "metadata": {
        "id": "NWseuWRgOTnB"
      },
      "source": [],
      "execution_count": null,
      "outputs": []
    },
    {
      "cell_type": "code",
      "metadata": {
        "id": "LJ3K4OkOPv0v"
      },
      "source": [],
      "execution_count": null,
      "outputs": []
    },
    {
      "cell_type": "code",
      "metadata": {
        "id": "MF_IkRn4Pv-e"
      },
      "source": [],
      "execution_count": null,
      "outputs": []
    },
    {
      "cell_type": "markdown",
      "metadata": {
        "id": "gciqCycPd3M_"
      },
      "source": [
        "# Try to make our model better\n",
        "\n",
        "\n",
        "1.    Classify more data by clever iterative choice.\n",
        "2.    Use classifire by key words.\n",
        ""
      ]
    },
    {
      "cell_type": "markdown",
      "metadata": {
        "id": "T5x0e--dercw"
      },
      "source": [
        "## 1) Classify more data by clever iterative choice."
      ]
    },
    {
      "cell_type": "code",
      "metadata": {
        "id": "390ecMpQexjw"
      },
      "source": [
        "n_ind = np.random.randint(1, 166699, 10000)\n",
        "new_coments = df['Lemmas'].loc[n_ind]"
      ],
      "execution_count": null,
      "outputs": []
    },
    {
      "cell_type": "code",
      "metadata": {
        "id": "1j7mUPgKexg5"
      },
      "source": [
        "# Learn our model on all coments\n",
        "X_train_counts = count_vect.transform(mrkdf['Lemmas'])\n",
        "X_train_tfidf = tfidf_transformer.transform(X_train_counts)\n",
        "clf =  LinearSVC().fit(X_train_tfidf, mrkdf['Theme'] - 1)"
      ],
      "execution_count": null,
      "outputs": []
    },
    {
      "cell_type": "code",
      "metadata": {
        "id": "ahQ7gG9Ig8FZ"
      },
      "source": [
        "def get_svc_proba(clf, X_test): #X_test_tfidf\n",
        "  predict = clf.decision_function(X_test) + 10 #[clf.predict(X_test_tfidf)]\n",
        "  predict = predict / np.sum(predict, 1).reshape(-1,1)\n",
        "  return np.max(predict, 1)\n",
        "\n",
        "new_coments_df = pd.DataFrame(new_coments, columns=['Coments', 'pred_themes', 'probs'])\n",
        "new_coments_df['Coments'] = df['Comment Text'].loc[n_ind]"
      ],
      "execution_count": null,
      "outputs": []
    },
    {
      "cell_type": "code",
      "metadata": {
        "id": "WXqxt9S6exdL"
      },
      "source": [
        "X_test_counts = count_vect.transform(new_coments)\n",
        "X_test_tfidf = tfidf_transformer.transform(X_test_counts)\n",
        "new_coments_df['pred_themes'] = clf.predict(X_test_tfidf)\n",
        "new_coments_df['probs'] = get_svc_proba(clf, X_test_tfidf)"
      ],
      "execution_count": null,
      "outputs": []
    },
    {
      "cell_type": "code",
      "metadata": {
        "id": "mc7YjSj_hfrM"
      },
      "source": [
        "#new_coments_df.to_excel(project_dir + '/NEURONET/new_coments_to_mark.xlsx')"
      ],
      "execution_count": null,
      "outputs": []
    },
    {
      "cell_type": "markdown",
      "metadata": {
        "id": "Co3oB50XsYAc"
      },
      "source": [
        "\n",
        "Сейчас мы покажем что мы еще пытались сделать и почему оставили модель выше. Во первых используем k-fold (разбиение на кусочки и предсказание одного кусочка по обучению на остальных), что бы максимально оценить качество разных моделей. Мы берем 4 модели."
      ]
    },
    {
      "cell_type": "code",
      "metadata": {
        "id": "hDrLJgOsvGaz",
        "colab": {
          "base_uri": "https://localhost:8080/"
        },
        "outputId": "5f165af5-c7f7-44c0-9acc-383fa5cdd4c9"
      },
      "source": [
        "from scipy import sparse\n",
        "features = (tfidf.transform(mrkdf['Lemmas']).toarray()) # maybe try  sparse.csr_matrix()\n",
        "labels = mrkdf['Theme']\n",
        "print(features.shape)"
      ],
      "execution_count": null,
      "outputs": [
        {
          "output_type": "stream",
          "text": [
            "(1676, 20115)\n"
          ],
          "name": "stdout"
        }
      ]
    },
    {
      "cell_type": "code",
      "metadata": {
        "id": "yv2ruJ3ha1qj",
        "colab": {
          "base_uri": "https://localhost:8080/",
          "height": 516
        },
        "outputId": "6763357c-eeff-4835-830a-54b5024a9428"
      },
      "source": [
        "from sklearn.linear_model import LogisticRegression\n",
        "from sklearn.ensemble import RandomForestClassifier\n",
        "from sklearn.svm import LinearSVC\n",
        "from sklearn.model_selection import cross_val_score\n",
        "import seaborn as sns\n",
        "sns.set(rc={'figure.figsize':(11.7,8.27)}) # Size of graph\n",
        "models = [\n",
        "    RandomForestClassifier(n_estimators=200, max_depth=3, random_state=0),\n",
        "    LinearSVC(),\n",
        "    MultinomialNB(),\n",
        "    LogisticRegression(random_state=0),\n",
        "]\n",
        "CV = 5\n",
        "cv_df = pd.DataFrame(index=range(CV * len(models)))\n",
        "entries = []\n",
        "for model in models:\n",
        "  model_name = model.__class__.__name__\n",
        "  accuracies = cross_val_score(model, features, labels, scoring='accuracy', cv=CV)\n",
        "  for fold_idx, accuracy in enumerate(accuracies):\n",
        "    entries.append((model_name, fold_idx, accuracy))\n",
        "cv_df = pd.DataFrame(entries, columns=['model_name', 'fold_idx', 'accuracy'])\n",
        "\n",
        "sns.boxplot(x='model_name', y='accuracy', data=cv_df)\n",
        "sns.stripplot(x='model_name', y='accuracy', data=cv_df,\n",
        "              size=12, jitter=True, edgecolor=\"gray\", linewidth=2)\n",
        "plt.show()"
      ],
      "execution_count": null,
      "outputs": [
        {
          "output_type": "display_data",
          "data": {
            "image/png": "[encoded data removed]",
            "text/plain": [
              "<Figure size 842.4x595.44 with 1 Axes>"
            ]
          },
          "metadata": {
            "tags": []
          }
        }
      ]
    },
    {
      "cell_type": "markdown",
      "metadata": {
        "id": "-VK4rJAx-6SZ"
      },
      "source": [
        "## 2) Coment by key words\n",
        "Попробуем признаками сделать ключевые слова, которые мы подобрали для каждой темы. Мы будем искать соостветствие в лемматизированных словах, поэтому наши ключевые слова тоже нужно лемматизировать\n"
      ]
    },
    {
      "cell_type": "code",
      "metadata": {
        "colab": {
          "base_uri": "https://localhost:8080/",
          "height": 124
        },
        "id": "gE7ub-84-C51",
        "outputId": "c81a5c16-c50a-4436-deb6-1602612b9f5e"
      },
      "source": [
        "# read and lemmatize key words\n",
        "with open(project_dir + 'MARKERS.txt') as kw: #'/NEURONET/nkw.txt') as kw:\n",
        "  key_w = kw.read()\n",
        "\n",
        "key_w"
      ],
      "execution_count": null,
      "outputs": [
        {
          "output_type": "execute_result",
          "data": {
            "application/vnd.google.colaboratory.intrinsic+json": {
              "type": "string"
            },
            "text/plain": [
              "'тема0: Воспоминания о сталинской эпохе: Сталин, сталинские репрессии, сталинские_репрессии, при сталине, при_сталине, КГБ, расстрел, раСтрел, жертвы_репрессий, жертвы репрессий, голодомор, ужасы_гулага, поднял_страну, поднял страну, повторение, донос, воля_к_жизни, воля к жизни, Троцкий, концлагерь, смотрю и плачу, смотрю_и_плачу, исторический музей, исторический_музей, распутица, Сталина на вас не хватает, Сталина_на_вас_не_хватает, история_повторяется, история повторяется, безнаказанность, допустить_повторения, допустить повторения, вождь, солженицын, холодная_война, Ленин, холодная_война, развал СССР, развал_СССР, индустриализация, союз развалили, союз_развалили, биполярный мир, биполярный_мир, советский строй, советский_строй, гонка вооружений, гонка_вооружений, октябрьская революция, октябрьская_революция, большевики, Кутузов, сверхдержава, советская история, красный терор, красный террор, пролетариат, советская_история, сейчас также, железный занавес, железный_занавес, развал страны, развал_страны, марксизм, Королев, антисоветчина, антисоветский, совок, совка, наша память, вата, ватники, обработка_молодежи, обработка молодежи, очернить\\n\\nТема1: Политические, социальные и экономические комментарии о современной России: Навальный, Дуров, Соболев, Мишустин, благосостояние, прогресс, стагнация, рецессия, экономика, правительство, деградация, плохие дороги, плохие_дороги, уровень жизни, пропаганда, уровень_жизни, ворьё, нечестные выборы, нечестные_выборы, бедность, нищета, нефть, газ, московский мусор, московский_мусор, выборы в мосгор думу, импортозамещение, выборы_в_мосгор_думу, собянин, митинг, а_сегодня, русский мир, русский_мир, за мкадом, за_мкадом, за Уралом, за_Уралом, современная Россия, независимая_Россия, лихие 90е, лихие _90е, Ельцин, Кадыров, Соловьев, Киселев, гнилая журналистика, сейчас также, сейчас_также, гнилая _журналистика, ВВП, сейчас что лучше, сейчас_что_лучше, беспредел, коррупция, оппозиция, глубинка, социальные проблемы, холодильник, наше время, наше_время, роснано, чеченский конфликт, чеченский_конфликт, а_сейчас_также, а сейчас также, обрабатывают молодых, обрабатывают_молодых, блокировка_интернета, ютуб, блокировка интернета, олигарх, перестройка, рыночная экономика, рыночная_экономика, нацпроекты, доходы россиян, убитые дороги, доходы_россиян, убитые_дороги\\n\\nТема2: Владимир Путин и Россия: путинские, Путин, Владимир Владимирович, Владимир_Владимирович, ВВ, воровство, чекист, продажная власть, продажная_власть, указ президента, указ_президента, плешивый, президент, авторитарный режим, авторитарный_режим, несменяемый, национальное богатство, национальное_богатство, несменяемость власти, несменяемость_власти, фальсификация, диктатор, геополитика, наш президент, наш_президент, путинисты, президент РФ, президент_РФ, путинская Россия, путинская_Россия, Кремль, скачок, экономический рост, экономический_рост\\n\\nТема3: Противопоставление Запада и русского мира: Сша, Европа, западные ценности, западные_ценности, госдеп, америкос, федеральные каналы, федеральные_каналы, инновации, нато, трамп, байден, права человека, права_человека, меркель, санкции, доллар, северный поток 2, северный_поток_2, дисквалификация, демократия, демократический, Лавров, виза, нападки запада, нападки_запада, пиндос, лгбт, мировая политика, мировая_политика, ООН, гнилой запад, гнилой_запад, либеральные ценности, либеральные_ценности, свободное общество, свободное_общество, изоляция, либерал, либеральный, западная пропаганда, западная_пропаганда, либераст, америкосы, кризис Европы, кризис_Европы, загнивающий запад, загнивающий_запад\\n\\nТема4: отношения РФ с соседними странами: Украина, Беларусь, Армения, постсоветские страны, крымский мост, постсоветские_страны, СНГ, рука кремля, рука_кремля, Тихановская, национальные интересы, национальные_интересы, война на Украине, война_на_ Украине, белорус, сепаратист, бандеровцы, цветная революция, цветная_революция, Донбасс, Луганск, Зеленский, жыве беларусь, майдан, Киев, жыве_беларусь, белорусский протест, белорусский_протест, Лукашенко, батька, бульбаши, субсидии от России, субсидии_от_России, субсидии от рф, субсидии_от_рф, минские соглашения, минские_соглашения, пашинян, нарушение границ, нарушение_границ, анексия Крыма, анексия_Крыма, аннексия Крыма, аннексия_Крыма, российская оккупация, российская_оккупация, военная эскалация, военная_эскалация\\n\\nТема5: иное: крутой, ахуенно\\n\\n'"
            ]
          },
          "metadata": {
            "tags": []
          },
          "execution_count": 55
        }
      ]
    },
    {
      "cell_type": "code",
      "metadata": {
        "id": "a4PTx8skckl5"
      },
      "source": [
        "kw = \"\"\"\n",
        "тема1: сталинские времена: Сталин, Ленин, КГБ, расстрел, голодомор, ВОВ, вторая_мировая, вторая мировая, донос, ГУЛАГ, исторический музей, исторический_музей\n",
        "\n",
        "тема2: полемика о СССР: союз, СССР, солженицын, холодная_война, холодная_война, развал СССР, развал_СССР, индустриализация, союз развалили, союз_развалили, биполярный мир, биполярный_мир, НКВД, советский строй, советский_строй, гонка вооружений, гонка_вооружений, октябрьская революция, октябрьская_революция, большевики, троцкий, красный террор, красный_террор, Кутузов, пакт молотова-риббентропа, пакт_молотова_риббентропа, сверхдержава, советская история, советская_история, очернить, а сейчас лучше, а_сейчас_лучше, сейчас также, сейчас_также, железный занавес, железный_занавес, либерасты, развал страны, развал_страны, обрабатывают молодых, обраб_молодых, Королев, антисоветчина, антисоветский, совок, совка, наша память\n",
        "\n",
        "тема3: социальные, экономические, политические проблемы РФ: Навальный, Дуров, Соболев, благосостояние, прогресс, стагнация, рецессия, экономика, правительство, деградация, плохие дороги, плохие_дороги, уровень жизни, уровень_жизни, ворьё, нечестные выборы, нечестные_выборы, бедность, нищета, нефть, газ, московский мусор, московский_мусор, выборы в мосгор думу, выборы_в_мосгор_думу, собянин, митинг, а_сегодня, русский мир, русский_мир, за мкадом, за_мкадом, за Уралом, за_Уралом, современная Россия, независимая_Россия, лихие 90е, лихие _90е, Ельцин, Кадыров, Соловьев, Киселев, гнилая журналистика, гнилая _журналистика, ВВП, беспредел, коррупция, оппозиция, глубинка, социальные проблемы, холодильник, наше время, наше_время, роснано, чеченский конфликт, чеченский_конфликт\n",
        "\n",
        "Тема4: обсуждение политики Путина: путинские, Путин, воровство, продажная власть, продажная_власть, указ президента, указ_президента, плешивый, президент, авторитарный режим, авторитарный_режим, несменяемый, национальное богатство, национальное_богатство, несменяемость власти, несменяемость_власти, фальсификация, диктатор, геополитика, наш президент, наш_президент, путинисты, поднял с колен, поднял_с_колен, олигарх, крымский мост, крымский_мост\n",
        "\n",
        "тема5: отношения РФ с западом: Сша, Европа, западные ценности, западные_ценности, америкa, инновации, нато, трамп, байден, права человека, права_человека, меркель, санкции, доллар, северный поток, северный_поток_2, лгбт, мировая политика, мировая_политика, ООН, запад, либерал, , либеральный\n",
        "\n",
        "тема6: отношения РФ ближними соседями: Украина, Беларусь, Армения, постсоветские страны, постсоветские_страны, СНГ, рука кремля, рука_кремля, Тихановская, национальные интересы, национальные_интересы, белорус, сепаратист, бандеровцы, цветная революция, цветная_революция, Донбасс, Луганск, Зеленский, жыве беларусь, жыве_беларусь, белорусский протест, белорусский_протест, Лукашенко, батька, бульбаши, субсидии от России, субсидии_от_России, субсидии от рф, субсидии_от_рф, минские соглашения, минские_соглашения, пашинян, нарушение границ, нарушение_границ, анексия Крыма, анексия_Крыма, аннексия Крыма, аннексия_Крыма\n",
        "\n",
        "тема7: иное: очень крутой, очень_крутой\n",
        "\n",
        "\n",
        "\"\"\"\n",
        "key_w = kw"
      ],
      "execution_count": null,
      "outputs": []
    },
    {
      "cell_type": "code",
      "metadata": {
        "id": "XfYvvgMGvmAB"
      },
      "source": [
        "kw = \"\"\"тема 0: сталинские времена: сталинские репрессии, сталинские_репрессии, при сталине, при_сталине, КГБ, расстрел, раСтрел, жертвы_репрессий, жертвы репрессий, голодомор, ужасы_гулага, поднял_страну, поднял страну, повторение, донос, воля_к_жизни, воля к жизни, концлагерь, смотрю и плачу, смотрю_и_плачу, исторический музей, исторический_музей, распутица, Сталина на вас не хватает, Сталина_на_вас_не_хватает, история_повторяется, история повторяется, безнаказанность, допустить_повторения, допустить повторения, вождь.\n",
        "\n",
        "тема1: полемика о СССР: солженицын, холодная_война, Ленин, холодная_война, развал СССР, развал_СССР, индустриализация, союз развалили, союз_развалили, биполярный мир, биполярный_мир, НКВД, советский строй, советский_строй, гонка вооружений, гонка_вооружений, октябрьская революция, октябрьская_революция, большевики, троцкий, красный террор, красный_террор, Кутузов, пакт молотова-риббентропа, пакт_молотова_риббентропа, сверхдержава, советская история, советская_история, очернить, а сейчас лучше, а_сейчас_лучше, сейчас также, сейчас_также, железный занавес, железный_занавес, либерасты, развал страны, развал_страны, обрабатывают молодых, обраб_молодых, марксизм, Королев, антисоветчина, антисоветский, совок, совка, наша память.\n",
        "\n",
        "тема2: социальные, экономические, политические проблемы РФ: Навальный, Дуров, Соболев, благосостояние, прогресс, стагнация, рецессия, экономика, правительство, деградация, плохие дороги, плохие_дороги, уровень жизни, уровень_жизни, ворьё, нечестные выборы, нечестные_выборы, бедность, нищета, нефть, газ, московский мусор, московский_мусор, выборы в мосгор думу, выборы_в_мосгор_думу, собянин, митинг, а_сегодня, русский мир, русский_мир, за мкадом, за_мкадом, за Уралом, за_Уралом, современная Россия, независимая_Россия, лихие 90е, лихие _90е, Ельцин, Кадыров, Соловьев, Киселев, гнилая журналистика, гнилая _журналистика, ВВП, беспредел, коррупция, оппозиция, глубинка, социальные проблемы, холодильник, наше время, наше_время, роснано, чеченский конфликт, чеченский_конфликт.\n",
        "\n",
        "Тема3: обсуждение политики Путина: путинские, Владимир Владимирович, Владимир_Владимирович, ВВ, воровство, чекист, продажная власть, продажная_власть, указ президента, указ_президента, плешивый, президент, авторитарный режим, авторитарный_режим, несменяемый, национальное богатство, национальное_богатство, несменяемость власти, несменяемость_власти, фальсификация, диктатор, геополитика, наш президент, наш_президент, путинисты, поднял с колен, поднял_с_колен, олигарх, крымский мост, крымский_мост.\n",
        "\n",
        "тема4: отношения РФ с западом: Сша, Европа, западные ценности, западные_ценности, америкос, федеральные каналы, федеральные_каналы, инновации, нато, трамп, байден, права человека, права_человека, меркель, санкции, доллар, северный поток 2, северный_поток_2, дисквалификация, демократия, демократический, Лавров, виза, нападки запада, нападки_запада, пиндос, лгбт, мировая политика, мировая_политика, ООН, гнилой запад, гнилой_запад, либеральные ценности, либеральные_ценности, свободное общество, свободное_общество, изоляция, либерал, либеральный, западная пропаганда, западная_пропаганда.\n",
        "\n",
        "тема5: отношения РФ ближними соседями: Украина, Беларусь, Армения, постсоветские страны, постсоветские_страны, СНГ, рука кремля, рука_кремля, Тихановская, национальные интересы, национальные_интересы, война на Украине, война _на_Украине, белорус, сепаратист, бандеровцы, цветная революция, цветная_революция, Донбасс, Луганск, Зеленский, жыве беларусь, жыве_беларусь, белорусский протест, белорусский_протест, Лукашенко, батька, бульбаши, субсидии от России, субсидии_от_России, субсидии от рф, субсидии_от_рф, минские соглашения, минские_соглашения, пашинян, нарушение границ, нарушение_границ, анексия Крыма, анексия_Крыма, аннексия Крыма, аннексия_Крыма.\n",
        "\n",
        "тема6: иное:  спасики Дуди\"\"\"\n",
        "key_w = kw"
      ],
      "execution_count": null,
      "outputs": []
    },
    {
      "cell_type": "code",
      "metadata": {
        "id": "LRVh_U_4J1-i"
      },
      "source": [
        "\n",
        "\n",
        "key_words = {}\n",
        "for theme in key_w.split('\\n'):\n",
        "  if theme in ['', '\\t', ' ']:\n",
        "    continue\n",
        "  #print(theme, theme.split(':'))\n",
        "  n, name, words = theme.split(':')\n",
        "  #print(words.split(','))\n",
        "  key_words[int(n[-1])] = [name]\n",
        "  for w in words.split(','):\n",
        "    if len(w.split()) > 1 and '_' not in w:\n",
        "      #print(lemma)\n",
        "      lemma = lemmatization([w.split()])\n",
        "      if lemma[0] == '':\n",
        "        continue\n",
        "      #bgr = '_'.join(lemma[0].split())\n",
        "      #key_words[int(n[-1])].append(bgr)\n",
        "      key_words[int(n[-1])].append(lemma[0])\n",
        "    elif '_' in w:\n",
        "      key_words[int(n[-1])].append(w)\n",
        "    else:\n",
        "      lemma = lemmatization([w.split()])\n",
        "      if lemma[0] == '':\n",
        "        continue\n",
        "      key_words[int(n[-1])].append(lemma[0])\n"
      ],
      "execution_count": null,
      "outputs": []
    },
    {
      "cell_type": "code",
      "metadata": {
        "id": "J22dpymUaMux"
      },
      "source": [
        "X_train, X_test, y_train, y_test = train_test_split(mrkdf['Lemmas'], mrkdf['Theme'], random_state = 1, train_size=0.8, test_size=0.2)"
      ],
      "execution_count": null,
      "outputs": []
    },
    {
      "cell_type": "code",
      "metadata": {
        "id": "fnrIK4TYL2ed"
      },
      "source": [
        "# ccount words in train set themes, count words in full text. Show histo for each theme, how many words in all coments. How many coments whith theme 7\n"
      ],
      "execution_count": null,
      "outputs": []
    },
    {
      "cell_type": "code",
      "metadata": {
        "id": "FlO8qkbMZCx4",
        "colab": {
          "base_uri": "https://localhost:8080/"
        },
        "outputId": "e1188f21-3431-42cb-baa0-cb154761ef32"
      },
      "source": [
        "import numpy as np\n",
        "\n",
        "def count_key_words(data_lemmatized, key_words):\n",
        "  themes = np.zeros([len(data_lemmatized), len(key_words)])\n",
        "\n",
        "  for i, coment in enumerate(data_lemmatized):\n",
        "    #if i > 10: break\n",
        "    #print(coment)\n",
        "    for k in key_words:\n",
        "      for w in key_words[k][1:]:\n",
        "        if w in coment:\n",
        "          #print('s', i, w, k)\n",
        "          themes[i, k-1] += 1 # or = 1\n",
        "  return themes\n",
        "\n",
        "\n",
        "def mark_key_words(data_lemmatized, key_words=key_words, n=None):\n",
        "  themes = np.zeros([len(data_lemmatized[:n]), len(key_words)])\n",
        "\n",
        "  for i, coment in enumerate(data_lemmatized[:n]):\n",
        "    #if i > 10: break\n",
        "    #print(coment)\n",
        "    for k in key_words:\n",
        "      for w in key_words[k][1:]:\n",
        "        #print(w)\n",
        "        if w in coment:\n",
        "          #if len(w.split()) > 1:\n",
        "          #  print('s', i, w, k, coment)\n",
        "          themes[i, k-1] = 1 # or = 1\n",
        "  return themes\n",
        "\n",
        "\n",
        "#themes = mark_key_words(mrkdf['Lemmas'], key_words, n=None) # add 2 to check\n",
        "themes = mark_key_words(X_test)#, key_words, n=None)\n",
        "themes.shape, np.sum(themes)"
      ],
      "execution_count": null,
      "outputs": [
        {
          "output_type": "execute_result",
          "data": {
            "text/plain": [
              "((336, 7), 84.0)"
            ]
          },
          "metadata": {
            "tags": []
          },
          "execution_count": 75
        }
      ]
    },
    {
      "cell_type": "code",
      "metadata": {
        "id": "_TbPghvDtj41"
      },
      "source": [
        "nw = {}\n",
        "for k in key_words:\n",
        "  nw[k] = []\n",
        "  for w in key_words[k]:\n",
        "    if w[0] == ' ':\n",
        "      w = w[1:]\n",
        "    nw[k].append(w)\n",
        "\n",
        "key_words = nw"
      ],
      "execution_count": null,
      "outputs": []
    },
    {
      "cell_type": "code",
      "metadata": {
        "id": "MS0JB1mk6Cwj",
        "colab": {
          "base_uri": "https://localhost:8080/"
        },
        "outputId": "51736533-77b0-4008-b025-3e697de88d7e"
      },
      "source": [
        "key_words[1]"
      ],
      "execution_count": null,
      "outputs": [
        {
          "output_type": "execute_result",
          "data": {
            "text/plain": [
              "['полемика о СССР',\n",
              " 'солженицын',\n",
              " 'холодная_война',\n",
              " 'холодная_война',\n",
              " 'развал',\n",
              " 'развал_СССР',\n",
              " 'индустриализация',\n",
              " 'союз развалять',\n",
              " 'союз_развалили',\n",
              " 'биполярный мир',\n",
              " 'биполярный_мир',\n",
              " 'нквд',\n",
              " 'советский строй',\n",
              " 'советский_строй',\n",
              " 'гонка вооружение',\n",
              " 'гонка_вооружений',\n",
              " 'октябрьский революция',\n",
              " 'октябрьская_революция',\n",
              " 'большевик',\n",
              " 'троцкий',\n",
              " 'красный террор',\n",
              " 'красный_террор',\n",
              " 'пакт молотов риббентроп',\n",
              " 'пакт_молотова_риббентропа',\n",
              " 'сверхдержава',\n",
              " 'советский история',\n",
              " 'советская_история',\n",
              " 'очернить',\n",
              " 'сейчас хороший',\n",
              " 'а_сейчас_лучше',\n",
              " 'сейчас также',\n",
              " 'сейчас_также',\n",
              " 'железный занавес',\n",
              " 'железный_занавес',\n",
              " 'либераст',\n",
              " 'развал страна',\n",
              " 'развал_страны',\n",
              " 'обрабатывать молодой',\n",
              " 'обраб_молодых',\n",
              " 'марксизм',\n",
              " 'антисоветчина',\n",
              " 'антисоветский',\n",
              " 'совок',\n",
              " 'совка',\n",
              " 'память']"
            ]
          },
          "metadata": {
            "tags": []
          },
          "execution_count": 62
        }
      ]
    },
    {
      "cell_type": "markdown",
      "metadata": {
        "id": "fODnjQM6vpXG"
      },
      "source": [
        "В обучающей выборке у нас не так много коментариев в которых попадаются ключевые слова. Проблема в том, что если мы делаем много ключевых слов к каждой теме, то они начинают попадаться в коментариях по другим темам. Если мы делаем мало ключевых слов по данной теме, то многие коментарии данной темы не содержат вообще ключевых слов. Ниже приведен график по оси х коментарий (первые 200) а по оси у сколько тем он содержит (по ключевым словам) Далее для подбора ключевых слов была сделана мягкая оценка - функция mark_coment отмечает все темы в коментарии (если встретились ключевые слова из данной темы) а multi_score считает ответ правельным если настоящий ответ совпал хоть с одной из предсказанных тем, но без темы 6. Получилась точность 39% у усеченных слов и 36% у начальных. (Почему точность возросла если слов стало меньше, дело в том что мы учитываем только те случаи на которые модель дала ответ, соответственно если слов меньше ответов тоже меньше - а это знаменатель в нормировке)  Так же возрасла точность определения каждой темы кроме 0й. 0.46938776, 0.37588652, 0.51515152, 0.4375    , 0.4  , 0.16666667, 0.11538462."
      ]
    },
    {
      "cell_type": "code",
      "metadata": {
        "colab": {
          "base_uri": "https://localhost:8080/",
          "height": 517
        },
        "id": "Jle0MAagjG3U",
        "outputId": "605dd16c-3d76-453c-e00b-1cccd9b66d73"
      },
      "source": [
        "plt.plot(np.sum(themes, axis=1)[:200])"
      ],
      "execution_count": null,
      "outputs": [
        {
          "output_type": "execute_result",
          "data": {
            "text/plain": [
              "[<matplotlib.lines.Line2D at 0x7f895d9f8950>]"
            ]
          },
          "metadata": {
            "tags": []
          },
          "execution_count": 77
        },
        {
          "output_type": "display_data",
          "data": {
            "image/png": "[encoded data removed]",
            "text/plain": [
              "<Figure size 842.4x595.44 with 1 Axes>"
            ]
          },
          "metadata": {
            "tags": []
          }
        }
      ]
    },
    {
      "cell_type": "code",
      "metadata": {
        "id": "qebYgOE8k3LA",
        "colab": {
          "base_uri": "https://localhost:8080/"
        },
        "outputId": "b6f5b3ea-0842-4199-c2bf-d226d9cd15f2"
      },
      "source": [
        "len(themes), len(y_test), len(themes), y_test.shape"
      ],
      "execution_count": null,
      "outputs": [
        {
          "output_type": "execute_result",
          "data": {
            "text/plain": [
              "(336, 336, 336, (336,))"
            ]
          },
          "metadata": {
            "tags": []
          },
          "execution_count": 64
        }
      ]
    },
    {
      "cell_type": "code",
      "metadata": {
        "colab": {
          "base_uri": "https://localhost:8080/"
        },
        "id": "XFuJCFHCjulg",
        "outputId": "ca21b470-3742-4900-a145-16ad99e5b6b2"
      },
      "source": [
        "# Special metric\n",
        "from collections import defaultdict\n",
        "\n",
        "def mark_coment(themes):\n",
        "  predict_themes = []\n",
        "  for cline in themes:\n",
        "    predict_themes.append(np.where(cline != 0))\n",
        "  return predict_themes\n",
        "\n",
        "predict_themes = mark_coment(themes)\n",
        "\n",
        "def multi_score(y_test=mrkdf['Theme'], pred=predict_themes):\n",
        "  sc = 0\n",
        "  smpl = 0\n",
        "  stat = defaultdict(list)\n",
        "  for i, t in enumerate(y_test):\n",
        "    if len(predict_themes[i][0]) == 0:\n",
        "      continue\n",
        "    smpl += 1\n",
        "    #print(t, predict_themes[i][0])\n",
        "    stat[t].append(predict_themes[i][0])\n",
        "    if t in predict_themes[i][0]:\n",
        "      sc += 1\n",
        "  print(sc/smpl)\n",
        "  res = np.zeros(7)\n",
        "  for k in stat:\n",
        "    ntnull = 0\n",
        "    for s in stat[k]:\n",
        "      if len(s) > 0:\n",
        "        ntnull += 1\n",
        "      if k in s:\n",
        "          if k==5 : print(k, s, res[k], ntnull)\n",
        "          res[k] += 1\n",
        "    res[k] /= ntnull\n",
        "  return stat, res\n",
        "\n",
        "\n",
        "multi_score(y_test, themes)[1]"
      ],
      "execution_count": null,
      "outputs": [
        {
          "output_type": "stream",
          "text": [
            "0.36507936507936506\n"
          ],
          "name": "stdout"
        },
        {
          "output_type": "execute_result",
          "data": {
            "text/plain": [
              "array([0.28571429, 0.375     , 0.33333333, 0.57142857, 0.        ,\n",
              "       0.        , 0.4       ])"
            ]
          },
          "metadata": {
            "tags": []
          },
          "execution_count": 78
        }
      ]
    },
    {
      "cell_type": "code",
      "metadata": {
        "colab": {
          "base_uri": "https://localhost:8080/"
        },
        "id": "qpfaBqxdy4KT",
        "outputId": "3eeb9903-b4ce-484e-ac5f-a9f8198bade5"
      },
      "source": [
        "y_test"
      ],
      "execution_count": null,
      "outputs": [
        {
          "output_type": "execute_result",
          "data": {
            "text/plain": [
              "1159    6\n",
              "1059    6\n",
              "1014    6\n",
              "1137    6\n",
              "1229    6\n",
              "       ..\n",
              "962     6\n",
              "61      6\n",
              "682     6\n",
              "1459    6\n",
              "322     6\n",
              "Name: Theme, Length: 336, dtype: int64"
            ]
          },
          "metadata": {
            "tags": []
          },
          "execution_count": 79
        }
      ]
    },
    {
      "cell_type": "code",
      "metadata": {
        "colab": {
          "base_uri": "https://localhost:8080/"
        },
        "id": "Af014oHsxMss",
        "outputId": "e616305a-464a-43e0-b940-4c94a109cece"
      },
      "source": [
        "predict_themes[21]"
      ],
      "execution_count": null,
      "outputs": [
        {
          "output_type": "execute_result",
          "data": {
            "text/plain": [
              "(array([0, 5]),)"
            ]
          },
          "metadata": {
            "tags": []
          },
          "execution_count": 86
        }
      ]
    },
    {
      "cell_type": "code",
      "metadata": {
        "colab": {
          "base_uri": "https://localhost:8080/"
        },
        "id": "v4yERRzRyfty",
        "outputId": "cab16b01-a804-4993-a960-6c844a65d00e"
      },
      "source": [
        "sum(themes[:, 3])"
      ],
      "execution_count": null,
      "outputs": [
        {
          "output_type": "execute_result",
          "data": {
            "text/plain": [
              "1.0"
            ]
          },
          "metadata": {
            "tags": []
          },
          "execution_count": 75
        }
      ]
    },
    {
      "cell_type": "code",
      "metadata": {
        "id": "5CeO9X0_uP4O",
        "colab": {
          "base_uri": "https://localhost:8080/"
        },
        "outputId": "4536eec7-ddb0-41bf-aca8-5121a0c88a7a"
      },
      "source": [
        "tkw=2\n",
        "for k in key_words[tkw][1:]:\n",
        "  for i, c in enumerate(X_test):\n",
        "    if k in c and list(y_test)[i] == tkw:\n",
        "      print(k, 'com:', themes[i], i, list(y_test)[i], c)\n",
        "  #break"
      ],
      "execution_count": null,
      "outputs": [
        {
          "output_type": "stream",
          "text": [
            "экономика com: [0. 1. 0. 0. 0. 0. 0.] 301 2 муратов здравомыслящий человек нормальный человек текущий положение дело призывать возвращаться прошлое твердо взглянуть будущее представить тысяча переехать человек время человек вернуться запустить жернов производство экономика миллион человек получить работа достоиный оплата увеличить прожиточный минимум старушка ходить помоик говорить родной распространять мир прекрасно\n",
            "бедность com: [0. 1. 0. 0. 0. 0. 0.] 50 2 очень информировать пенсионерка врать поди мерять сегодняшний лекал условие жизнь послевоенный страна чистеиший манипуляция менее разбираться цифра сеичас жить человек чертой бедность едва сводить конец конец\n",
            "бедность com: [0. 1. 0. 0. 0. 0. 0.] 183 2 россия родина крах бедность\n",
            "время com: [1. 1. 0. 0. 0. 0. 0.] 158 2 распорежаться напливать блять начинаться идиот марксистский хует начинать повторять освоить элементарный грамотность первый капитализм конкуренция свободный рынок загнуться барьер государство этакий лаит версия совка второй реальный капитализм отсутствовать принуждение исключение применение преступник намывать золото аляска свободный самостоятельный добытчик богател капитализм намывать колыца доход убогий совка свобода вполне реальный диапазон возможность зависеть знание талант нихрен иметь выпускник вуз стать владелец объект недвижимость собственный бизнес случай знать масса человек зарабатывать совершенно легально время куча патерналистский раб воспитанный совок терпеливо месяц ждать зарплата изменить жизнь разница менталитет продолжай ныть капиталист грабить собственный никак оправдать\n",
            "время com: [0. 1. 0. 0. 0. 0. 0.] 301 2 муратов здравомыслящий человек нормальный человек текущий положение дело призывать возвращаться прошлое твердо взглянуть будущее представить тысяча переехать человек время человек вернуться запустить жернов производство экономика миллион человек получить работа достоиный оплата увеличить прожиточный минимум старушка ходить помоик говорить родной распространять мир прекрасно\n",
            "время com: [0. 1. 0. 0. 0. 0. 0.] 320 2 кстати страшный непонятный напрямую ссылать население тихий вымирать нация сокращаться тихо мирно долго сеичас год миллион сократиться население назвать геноцид время население расти нынешний время падать медленно верно\n"
          ],
          "name": "stdout"
        }
      ]
    },
    {
      "cell_type": "code",
      "metadata": {
        "colab": {
          "base_uri": "https://localhost:8080/",
          "height": 238
        },
        "id": "nq3-7l9u5NS1",
        "outputId": "bc9dda16-7470-4e7b-8fb9-9f7081b57eac"
      },
      "source": [
        "features_mrk = mark_key_words(mrkdf['Lemmas'], key_words, n=None) # np.hstack([features, themes]) #themes#np.hstack([features, themes])\n",
        "features = tfidf.transform(mrkdf['Lemmas'])\n",
        "features2 = sparse.hstack([sparse.csr_matrix(features_mrk), features])\n",
        "labels = mrkdf[\"Theme\"]\n",
        "features2.shape"
      ],
      "execution_count": null,
      "outputs": [
        {
          "output_type": "error",
          "ename": "NameError",
          "evalue": "ignored",
          "traceback": [
            "\u001b[0;31m---------------------------------------------------------------------------\u001b[0m",
            "\u001b[0;31mNameError\u001b[0m                                 Traceback (most recent call last)",
            "\u001b[0;32m<ipython-input-51-754e4a08351e>\u001b[0m in \u001b[0;36m<module>\u001b[0;34m()\u001b[0m\n\u001b[1;32m      1\u001b[0m \u001b[0mfeatures_mrk\u001b[0m \u001b[0;34m=\u001b[0m \u001b[0mmark_key_words\u001b[0m\u001b[0;34m(\u001b[0m\u001b[0mmrkdf\u001b[0m\u001b[0;34m[\u001b[0m\u001b[0;34m'Lemmas'\u001b[0m\u001b[0;34m]\u001b[0m\u001b[0;34m,\u001b[0m \u001b[0mkey_words\u001b[0m\u001b[0;34m,\u001b[0m \u001b[0mn\u001b[0m\u001b[0;34m=\u001b[0m\u001b[0;32mNone\u001b[0m\u001b[0;34m)\u001b[0m \u001b[0;31m# np.hstack([features, themes]) #themes#np.hstack([features, themes])\u001b[0m\u001b[0;34m\u001b[0m\u001b[0;34m\u001b[0m\u001b[0m\n\u001b[0;32m----> 2\u001b[0;31m \u001b[0mfeatures\u001b[0m \u001b[0;34m=\u001b[0m \u001b[0mtfidf\u001b[0m\u001b[0;34m.\u001b[0m\u001b[0mtransform\u001b[0m\u001b[0;34m(\u001b[0m\u001b[0mmrkdf\u001b[0m\u001b[0;34m[\u001b[0m\u001b[0;34m'Lemmas'\u001b[0m\u001b[0;34m]\u001b[0m\u001b[0;34m)\u001b[0m\u001b[0;34m\u001b[0m\u001b[0;34m\u001b[0m\u001b[0m\n\u001b[0m\u001b[1;32m      3\u001b[0m \u001b[0mfeatures2\u001b[0m \u001b[0;34m=\u001b[0m \u001b[0msparse\u001b[0m\u001b[0;34m.\u001b[0m\u001b[0mhstack\u001b[0m\u001b[0;34m(\u001b[0m\u001b[0;34m[\u001b[0m\u001b[0msparse\u001b[0m\u001b[0;34m.\u001b[0m\u001b[0mcsr_matrix\u001b[0m\u001b[0;34m(\u001b[0m\u001b[0mfeatures_mrk\u001b[0m\u001b[0;34m)\u001b[0m\u001b[0;34m,\u001b[0m \u001b[0mfeatures\u001b[0m\u001b[0;34m]\u001b[0m\u001b[0;34m)\u001b[0m\u001b[0;34m\u001b[0m\u001b[0;34m\u001b[0m\u001b[0m\n\u001b[1;32m      4\u001b[0m \u001b[0mlabels\u001b[0m \u001b[0;34m=\u001b[0m \u001b[0mmrkdf\u001b[0m\u001b[0;34m[\u001b[0m\u001b[0;34m\"Theme\"\u001b[0m\u001b[0;34m]\u001b[0m\u001b[0;34m\u001b[0m\u001b[0;34m\u001b[0m\u001b[0m\n\u001b[1;32m      5\u001b[0m \u001b[0mfeatures2\u001b[0m\u001b[0;34m.\u001b[0m\u001b[0mshape\u001b[0m\u001b[0;34m\u001b[0m\u001b[0;34m\u001b[0m\u001b[0m\n",
            "\u001b[0;31mNameError\u001b[0m: name 'tfidf' is not defined"
          ]
        }
      ]
    },
    {
      "cell_type": "code",
      "metadata": {
        "id": "4k4KsoIYT8Mj"
      },
      "source": [
        "# k-fold -see in wiki\n",
        "\n",
        "from sklearn.linear_model import LogisticRegression\n",
        "from sklearn.ensemble import RandomForestClassifier\n",
        "from sklearn.svm import LinearSVC\n",
        "from sklearn.model_selection import cross_val_score\n",
        "models = [\n",
        "    RandomForestClassifier(n_estimators=200, max_depth=3, random_state=0),\n",
        "    LinearSVC(),\n",
        "    MultinomialNB(),\n",
        "    LogisticRegression(random_state=0),\n",
        "]\n",
        "CV = 5\n",
        "cv_df = pd.DataFrame(index=range(CV * len(models)))\n",
        "entries = []\n",
        "for model in models:\n",
        "  model_name = model.__class__.__name__\n",
        "  accuracies = cross_val_score(model, features_mrk, labels, scoring='accuracy', cv=CV)\n",
        "  for fold_idx, accuracy in enumerate(accuracies):\n",
        "    entries.append((model_name, fold_idx, accuracy))\n",
        "cv_df = pd.DataFrame(entries, columns=['model_name', 'fold_idx', 'accuracy'])\n",
        "import seaborn as sns\n",
        "sns.boxplot(x='model_name', y='accuracy', data=cv_df)\n",
        "sns.stripplot(x='model_name', y='accuracy', data=cv_df,\n",
        "              size=8, jitter=True, edgecolor=\"gray\", linewidth=2)\n",
        "plt.show()"
      ],
      "execution_count": null,
      "outputs": []
    },
    {
      "cell_type": "code",
      "metadata": {
        "id": "WvgBzcIUUTMW"
      },
      "source": [],
      "execution_count": null,
      "outputs": []
    },
    {
      "cell_type": "markdown",
      "metadata": {
        "id": "1itxrcszUMuK"
      },
      "source": [
        "## Объединенная модель"
      ]
    },
    {
      "cell_type": "code",
      "metadata": {
        "id": "_EcAWt2zB-jT"
      },
      "source": [
        "# k-fold -see in wiki\n",
        "\n",
        "from sklearn.linear_model import LogisticRegression\n",
        "from sklearn.ensemble import RandomForestClassifier\n",
        "from sklearn.svm import LinearSVC\n",
        "from sklearn.model_selection import cross_val_score\n",
        "models = [\n",
        "    RandomForestClassifier(n_estimators=200, max_depth=3, random_state=0),\n",
        "    LinearSVC(),\n",
        "    MultinomialNB(),\n",
        "    LogisticRegression(random_state=0),\n",
        "]\n",
        "CV = 5\n",
        "cv_df = pd.DataFrame(index=range(CV * len(models)))\n",
        "entries = []\n",
        "for model in models:\n",
        "  model_name = model.__class__.__name__\n",
        "  accuracies = cross_val_score(model, features2, labels, scoring='accuracy', cv=CV)\n",
        "  for fold_idx, accuracy in enumerate(accuracies):\n",
        "    entries.append((model_name, fold_idx, accuracy))\n",
        "cv_df = pd.DataFrame(entries, columns=['model_name', 'fold_idx', 'accuracy'])\n",
        "import seaborn as sns\n",
        "sns.boxplot(x='model_name', y='accuracy', data=cv_df)\n",
        "sns.stripplot(x='model_name', y='accuracy', data=cv_df,\n",
        "              size=8, jitter=True, edgecolor=\"gray\", linewidth=2)\n",
        "plt.show()"
      ],
      "execution_count": null,
      "outputs": []
    },
    {
      "cell_type": "code",
      "metadata": {
        "id": "edCGcolELzG-"
      },
      "source": [
        "# from sklearn.metrics import recall_score, precision_score, f1_score\n",
        "clf =  LinearSVC().fit(mark_key_words(X_train, key_words), y_train)\n",
        "X_tst = mark_key_words(X_test, key_words, n=None)\n",
        "print(clf.score(X_tst, y_test))\n",
        "report = classification_report(y_test, clf.predict(X_tst), range(7))\n",
        "print(report)"
      ],
      "execution_count": null,
      "outputs": []
    },
    {
      "cell_type": "markdown",
      "metadata": {
        "id": "60dXooWMZlH_"
      },
      "source": [
        "## Делаем табличку с классами и вероятностями от двух моделей."
      ]
    },
    {
      "cell_type": "code",
      "metadata": {
        "id": "Opuc3oFtZjfd"
      },
      "source": [
        "#дву моделей : tf-idf и k-word"
      ],
      "execution_count": null,
      "outputs": []
    },
    {
      "cell_type": "code",
      "metadata": {
        "id": "gBXsqb2pCdEa"
      },
      "source": [
        "stats_df = pd.DataFrame(mrkdf.loc[X_test.index][['Comment Text', 'Theme']], columns=['Comment Text', 'Theme', 'pred_tf', 'pred_tf_prob', 'pred_keyword', 'pred_keyword_prob'])\n"
      ],
      "execution_count": null,
      "outputs": []
    },
    {
      "cell_type": "code",
      "metadata": {
        "id": "5dendWKihtDn"
      },
      "source": [
        "def get_svc_proba(clf, X_test): #X_test_tfidf\n",
        "  predict = clf.decision_function(X_test) + 10 #[clf.predict(X_test_tfidf)]\n",
        "  predict = predict / np.sum(predict, 1).reshape(-1,1)\n",
        "  return np.max(predict, 1)"
      ],
      "execution_count": null,
      "outputs": []
    },
    {
      "cell_type": "code",
      "metadata": {
        "id": "WEH7G189FGvQ"
      },
      "source": [
        "Xtr = count_vect.transform(X_train)\n",
        "Xtr = tfidf_transformer.transform(Xtr)\n",
        "clf =  LinearSVC().fit(Xtr, y_train)\n",
        "\n",
        "Xtr = count_vect.transform(X_test)\n",
        "X_test_tfidf = tfidf_transformer.transform(Xtr)\n",
        "\n",
        "\n",
        "stats_df['pred_tf_prob'] = get_svc_proba(clf, X_test_tfidf)\n",
        "stats_df['pred_tf'] = clf.predict(X_test_tfidf)\n",
        "\n",
        "clf =  LinearSVC().fit(mark_key_words(X_train, key_words, n=None), y_train)\n",
        "test_keyw_feuters = mark_key_words(X_test, key_words, n=None)\n",
        "stats_df['pred_keyword_prob'] = get_svc_proba(clf, test_keyw_feuters)\n",
        "stats_df['pred_keyword'] = clf.predict(test_keyw_feuters)\n",
        "if max(stats_df['Theme']) == 7:\n",
        "  stats_df['Theme'] -= 1"
      ],
      "execution_count": null,
      "outputs": []
    },
    {
      "cell_type": "code",
      "metadata": {
        "id": "if4DgY0l3aVy"
      },
      "source": [
        "stats_df"
      ],
      "execution_count": null,
      "outputs": []
    },
    {
      "cell_type": "code",
      "metadata": {
        "id": "L5iCvOhhJXch"
      },
      "source": [
        "stats_df[stats_df['Theme'] != 6]"
      ],
      "execution_count": null,
      "outputs": []
    },
    {
      "cell_type": "code",
      "metadata": {
        "id": "Pr6dPMfFKMoP"
      },
      "source": [
        "stats_df.to_excel(project_dir + 'NEURONET/ComentsProb1.xlsx')"
      ],
      "execution_count": null,
      "outputs": []
    },
    {
      "cell_type": "markdown",
      "metadata": {
        "id": "D6c9860pZy2w"
      },
      "source": [
        "# Объеденим модели: обучаем модель на X_train с tf-idf and k-words\n"
      ]
    },
    {
      "cell_type": "code",
      "metadata": {
        "id": "-79AX4HVkjce"
      },
      "source": [
        "\n",
        "sA = sparse.csr_matrix(mark_key_words(X_train))\n",
        "features2.shape, sparse.hstack([sA, tfidf.transform(X_train)]).shape"
      ],
      "execution_count": null,
      "outputs": []
    },
    {
      "cell_type": "code",
      "metadata": {
        "id": "_fa4QyA7jbQo"
      },
      "source": [
        "X_tr_tfidf = tfidf.transform(X_train)\n",
        "clf =  LinearSVC().fit(sparse.hstack([sA, X_tr_tfidf]), y_train)\n",
        "#clf =  LinearSVC().fit(np.hstack([mark_key_words(X_train), X_tr_tfidf]), y_train)\n",
        "X_tst = mark_key_words(X_test, key_words, n=None)\n",
        "X_test_tfidf = tfidf.transform(X_test)\n",
        "print(clf.score(sparse.hstack([sparse.csr_matrix(X_tst), X_test_tfidf]), y_test))\n",
        "report = classification_report(clf.predict(sparse.hstack([sparse.csr_matrix(X_tst), X_test_tfidf])), y_test, range(7))\n",
        "print(report)"
      ],
      "execution_count": null,
      "outputs": []
    },
    {
      "cell_type": "markdown",
      "metadata": {
        "id": "moyWFapoCdya"
      },
      "source": [
        "У объединенной модели результат оказался лучше!! А с новой выборкой, еще лучше!"
      ]
    },
    {
      "cell_type": "code",
      "metadata": {
        "id": "_Q9WNkhnXoFc"
      },
      "source": [
        "all_train = np.hstack([X_train, df.loc[mrkdf2.dindex]['Lemmas']])\n",
        "sA = sparse.csr_matrix(mark_key_words(all_train))\n",
        "X_tr_tfidf = tfidf.transform(all_train)\n",
        "clf =  LinearSVC().fit(sparse.hstack([sA, X_tr_tfidf]), np.hstack([y_train, mrkdf2['Theme']]))\n",
        "#clf =  LinearSVC().fit(np.hstack([mark_key_words(X_train), X_tr_tfidf]), y_train)\n",
        "X_tst = mark_key_words(X_test, key_words, n=None)\n",
        "X_test_tfidf = tfidf.transform(X_test)\n",
        "print(clf.score(sparse.hstack([sparse.csr_matrix(X_tst), X_test_tfidf]), y_test))\n",
        "report = classification_report(clf.predict(sparse.hstack([sparse.csr_matrix(X_tst), X_test_tfidf])), y_test, range(7))#???????????????\n",
        "print(report)"
      ],
      "execution_count": null,
      "outputs": []
    },
    {
      "cell_type": "markdown",
      "metadata": {
        "id": "Ux2y6CcJxSLa"
      },
      "source": [
        "# Model compose tfidf + keyword. Not needed"
      ]
    },
    {
      "cell_type": "code",
      "metadata": {
        "id": "YOvG5EN17e9M"
      },
      "source": [
        "from sklearn.model_selection import train_test_split\n",
        "from sklearn.feature_extraction.text import CountVectorizer\n",
        "from sklearn.feature_extraction.text import TfidfTransformer\n",
        "from sklearn.naive_bayes import MultinomialNB\n",
        "from sklearn.metrics import accuracy_score\n",
        "from sklearn.base import BaseEstimator\n",
        "X_train, X_test, y_train, y_test = train_test_split(mrkdf['Lemmas'], mrkdf['Theme'] - 1, random_state = 0)\n",
        "\n",
        "class MyModel(BaseEstimator):\n",
        "  # Add weight and search count in Coments\n",
        "  def __init__(self):\n",
        "    self.count_vect = CountVectorizer()\n",
        "    self.tfidf_transformer = tfidf = TfidfVectorizer(sublinear_tf=True, min_df=5, norm='l2', encoding='utf-8', ngram_range=(1, 2), stop_words=russian_stopwords)\n",
        "    #tfidf#TfidfTransformer()\n",
        "    self.clf = LogisticRegression()\n",
        "\n",
        "  def fit(self, X, y, **kwargs):\n",
        "    X_tfidf = self.tfidf_transformer.fit_transform(X)\n",
        "    X_features = self.transform(X, X_tfidf)\n",
        "    #print(X_features.shape)\n",
        "    self.clf.fit(X_features, y)\n",
        "    return self\n",
        "\n",
        "  def transform(self, X, X_tfidf):\n",
        "    # Add key words counts\n",
        "    themes = mark_key_words(X, key_words, n=None)\n",
        "    n_comment_wth_k(themes) # show distribution\n",
        "    #print(themes.shape, X_tfidf.shape)\n",
        "    return X_tfidf.toarray()# np.hstack([themes, X_tfidf.toarray()])\n",
        "\n",
        "  def decision_function(self, X):\n",
        "    return self.predict(X)\n",
        "\n",
        "  def predict(self, X):\n",
        "    #X_counts = self.count_vect.transform(3)#X)\n",
        "    X_tfidf = self.tfidf_transformer.transform(X)#_counts)\n",
        "    X_features = self.transform(X, X_tfidf)\n",
        "    #print(X_features.shape)\n",
        "    return self.clf.predict(X_features)\n",
        "\n",
        "  def predict_proba(self, X):\n",
        "    X_tfidf = self.tfidf_transformer.transform(X)#_counts)\n",
        "    X_features = self.transform(X, X_tfidf)\n",
        "    #print(X_features.shape)\n",
        "    return self.clf.predict_proba(X_features)\n",
        "\n",
        "\n",
        "\n",
        "\n",
        "mm = MyModel()\n",
        "mm.fit(X_train, y_train)\n",
        "accuracy_score(mm.predict((X_test)), y_test)\n",
        "#lrg = LogisticRegression()\n",
        "#cross_val_score(mm, df[\"Lemmas\"], labels, scoring='accuracy', cv=3, )\n",
        "mm.predict_proba((X_test))[:10], y_test[:10]"
      ],
      "execution_count": null,
      "outputs": []
    },
    {
      "cell_type": "code",
      "metadata": {
        "id": "DtLu7L4YpqbX"
      },
      "source": [
        "import numpy as np\n",
        "#from sklearn.cross_validation import cross_val_score\n",
        "\n"
      ],
      "execution_count": null,
      "outputs": []
    },
    {
      "cell_type": "code",
      "metadata": {
        "id": "e2w9xLsGRmDo"
      },
      "source": [
        "print(clf.predict(count_vect.transform([\"После слов вахтерши на всякий случай пошёл спать.\"])))\n"
      ],
      "execution_count": null,
      "outputs": []
    },
    {
      "cell_type": "code",
      "metadata": {
        "id": "goI7sN5X0qJD"
      },
      "source": [
        "count_vect = CountVectorizer()\n",
        "tfidf_transformer = TfidfTransformer()\n",
        "X_train_counts = count_vect.fit_transform(X_train)\n",
        "X_train_tfidf = tfidf_transformer.fit_transform(X_train_counts)\n",
        "\n",
        "def transf_data(X_train):\n",
        "  X_train_counts = count_vect.transform(X_train)\n",
        "  X_train_tfidf = tfidf_transformer.transform(X_train_counts)\n",
        "  return X_train_tfidf\n",
        "\n",
        "clf = LinearSVC().fit(X_train_tfidf, y_train)\n",
        "clf.score(transf_data(X_test), y_test)"
      ],
      "execution_count": null,
      "outputs": []
    },
    {
      "cell_type": "markdown",
      "metadata": {
        "id": "mKbE7P4R0ZVL"
      },
      "source": [
        "# Use Double model for all unmarked comments and visualize results\n",
        "Train on both marked df"
      ]
    },
    {
      "cell_type": "code",
      "metadata": {
        "id": "Jhth3ZVHf23Y"
      },
      "source": [
        "np.random.seed(1)\n",
        "X_train_all = np.hstack([mrkdf['Lemmas'], df.loc[mrkdf2.dindex]['Lemmas']])\n",
        "sA = sparse.csr_matrix(mark_key_words(X_train_all))\n",
        "X_train_tfidf = tfidf.transform(X_train_all)\n",
        "clf =  LinearSVC().fit(sparse.hstack([sA, X_train_tfidf]), np.hstack([mrkdf['Theme'], mrkdf2['Theme']]))\n",
        "\n"
      ],
      "execution_count": null,
      "outputs": []
    },
    {
      "cell_type": "code",
      "metadata": {
        "id": "4a34nZLt7Ahy"
      },
      "source": [
        "def get_svc_proba(clf, X_test): #X_test_tfidf\n",
        "  predict = clf.decision_function(X_test) + 10 #[clf.predict(X_test_tfidf)]\n",
        "  predict = predict / np.sum(predict, 1).reshape(-1,1)\n",
        "  return predict\n",
        "\n",
        "\n",
        "#X_tf_idf = tfidf.transform(df[df['type'] != 2]['Lemmas'])\n",
        "#sA = sparse.csr_matrix(mark_key_words(df[df['type'] != 2]['Lemmas']))\n",
        "X_tf_idf = tfidf.transform(df['Lemmas'])\n",
        "sA = sparse.csr_matrix(mark_key_words(df['Lemmas']))\n",
        "X_all_pred = sparse.hstack([sA, X_tf_idf])\n",
        "%time result = get_svc_proba(clf, X_all_pred)"
      ],
      "execution_count": null,
      "outputs": []
    },
    {
      "cell_type": "code",
      "metadata": {
        "id": "MlZdINMU7l9V"
      },
      "source": [
        "result.shape"
      ],
      "execution_count": null,
      "outputs": []
    },
    {
      "cell_type": "code",
      "metadata": {
        "id": "x8nXzKQV7pVn"
      },
      "source": [
        "np.argmax(result, 1)"
      ],
      "execution_count": null,
      "outputs": []
    },
    {
      "cell_type": "code",
      "metadata": {
        "id": "FsDhSaAQ7zfi"
      },
      "source": [
        "from sklearn.decomposition import PCA\n",
        "pca = PCA(n_components=2)\n",
        "xy = pca.fit_transform(result)"
      ],
      "execution_count": null,
      "outputs": []
    },
    {
      "cell_type": "code",
      "metadata": {
        "id": "eBd6G-S7QQqy"
      },
      "source": [
        "import seaborn as sns\n",
        "#sns.set_theme(style=\"white\")\n",
        "sns.set_theme(color_codes=True)\n",
        "\n",
        "i=7000\n",
        "fig, ax = plt.subplots(figsize=[12,10])\n",
        "y = np.argmax(result[:i], 1)\n",
        "#scatter = ax.scatter(xy[:i,0], xy[:i,1], c=np.argmax(result[:i], 1), cmap='Spectral')\n",
        "scatter = ax.scatter(xy[:i,0], xy[:i,1], c=y, cmap='Spectral')\n",
        "\n",
        "# produce a legend with the unique colors from the scatter\n",
        "legend1 = ax.legend(*scatter.legend_elements(),\n",
        "                    loc=\"lower left\", title=\"Classes\")\n",
        "ax.add_artist(legend1)"
      ],
      "execution_count": null,
      "outputs": []
    },
    {
      "cell_type": "code",
      "metadata": {
        "id": "NZUXAgQCQ75E"
      },
      "source": [
        "df['predThemes'] = np.argmax(result, 1)\n",
        "df['predThemes_prob'] = np.max(result, 1)\n",
        "df.to_excel(project_dir + 'NEURONET/AllPred2.xlsx')"
      ],
      "execution_count": null,
      "outputs": []
    },
    {
      "cell_type": "code",
      "metadata": {
        "id": "ILdJYtBFQP50"
      },
      "source": [],
      "execution_count": null,
      "outputs": []
    },
    {
      "cell_type": "markdown",
      "metadata": {
        "id": "R5jd2WC9Ai8d"
      },
      "source": [
        "На графику видно что тема 6 имеет достаточно много коментариев которые довольно хорошо отделяются от остальных тем, так тема 0 имеет коментарии исключительно своей темы. Остальные же коментарии довольно сложно различимы в том числе из - за своей малочисленности.\n",
        "\n",
        "Еще один график - давайте возьмем всех тем в равном количестве"
      ]
    },
    {
      "cell_type": "code",
      "metadata": {
        "id": "FyKAulO4BqqA"
      },
      "source": [
        "#df['predThemes'] = np.argmax(result, 1)\n",
        "#df.to_excel(project_dir + 'NEURONET/AllPred.xlsx')"
      ],
      "execution_count": null,
      "outputs": []
    },
    {
      "cell_type": "code",
      "metadata": {
        "id": "a9VnkXJi-QWp"
      },
      "source": [
        "X_train = None\n",
        "y = None\n",
        "for i in range(7):\n",
        "  a = df[df['predThemes']==i].index\n",
        "  print(a.shape)\n",
        "  ind = np.random.randint(0, len(a), 500)\n",
        "\n",
        "  if X_train is None:\n",
        "    X_train = result[a[ind]]\n",
        "    y = [i] * len(a[ind])\n",
        "  else:\n",
        "    X_train = np.vstack([X_train, result[a[ind]]])\n",
        "    y = np.hstack([y, [i] * len(a[ind])])"
      ],
      "execution_count": null,
      "outputs": []
    },
    {
      "cell_type": "code",
      "metadata": {
        "id": "zptxrdtbIQEh"
      },
      "source": [
        "X_train.shape"
      ],
      "execution_count": null,
      "outputs": []
    },
    {
      "cell_type": "code",
      "metadata": {
        "id": "q2ubHJe_IjjL"
      },
      "source": [
        "pca = PCA(n_components=2)\n",
        "xy = pca.fit_transform(X_train)"
      ],
      "execution_count": null,
      "outputs": []
    },
    {
      "cell_type": "code",
      "metadata": {
        "id": "0ew46p4fI0VW"
      },
      "source": [
        "y.shape"
      ],
      "execution_count": null,
      "outputs": []
    },
    {
      "cell_type": "code",
      "metadata": {
        "id": "nQV2exOX9CW-"
      },
      "source": [
        "import seaborn as sns\n",
        "#sns.set_theme(style=\"white\")\n",
        "sns.set_theme(color_codes=True)\n",
        "\n",
        "i=7000\n",
        "fig, ax = plt.subplots(figsize=[12,10])\n",
        "\n",
        "#scatter = ax.scatter(xy[:i,0], xy[:i,1], c=np.argmax(result[:i], 1), cmap='Spectral')\n",
        "scatter = ax.scatter(xy[:i,0], xy[:i,1], c=y, cmap='Spectral')\n",
        "\n",
        "# produce a legend with the unique colors from the scatter\n",
        "legend1 = ax.legend(*scatter.legend_elements(),\n",
        "                    loc=\"lower left\", title=\"Classes\")\n",
        "ax.add_artist(legend1)"
      ],
      "execution_count": null,
      "outputs": []
    },
    {
      "cell_type": "markdown",
      "metadata": {
        "id": "9y8ffGm1fE4I"
      },
      "source": [
        "Подсчитаем количество мата. Фильтрация в вк 600 слов"
      ]
    },
    {
      "cell_type": "code",
      "metadata": {
        "id": "pGKEbpzmK-fd"
      },
      "source": [
        "mat = \"\"\"6ля, 6лядь, 6лять, b3ъeб, cock, cunt, e6aль, ebal, eblan, eбaл, eбaть, eбyч, eбать, eбёт, eблантий, fuck, fucker, fucking, xyёв, xyй, xyя, xуе,xуй, xую, zaeb, zaebal, zaebali, zaebat, архипиздрит, ахуел, ахуеть, бздение, бздеть, бздех, бздецы, бздит, бздицы, бздло, бзднуть, бздун, бздунья, бздюха, бздюшка, бздюшко, бля, блябу, блябуду, бляд, бляди, блядина, блядище, блядки, блядовать, блядство, блядун, блядуны, блядунья, блядь, блядюга, блять, вафел, вафлёр, взъебка, взьебка, взьебывать, въеб, въебался, въебенн, въебусь, въебывать, выблядок, выблядыш, выеб, выебать, выебен, выебнулся, выебон, выебываться, выпердеть, высраться, выссаться, вьебен, гавно, гавнюк, гавнючка, гамно, гандон, гнид, гнида, гниды, говенка, говенный, говешка, говназия, говнецо, говнище, говно, говноед, говнолинк, говночист, говнюк, говнюха, говнядина, говняк, говняный, говнять, гондон, доебываться, долбоеб, долбоёб, долбоящер, дрисня, дрист, дристануть, дристать, дристун, дристуха, дрочелло, дрочена, дрочила, дрочилка, дрочистый, дрочить, дрочка, дрочун, е6ал, е6ут, еб твою мать, ёб твою мать, ёбaн, ебaть, ебyч, ебал, ебало, ебальник, ебан, ебанамать, ебанат, ебаная, ёбаная, ебанический, ебанный, ебанныйврот, ебаное, ебануть, ебануться, ёбаную, ебаный, ебанько, ебарь, ебат, ёбат, ебатория, ебать, ебать-копать, ебаться, ебашить, ебёна, ебет, ебёт, ебец, ебик, ебин, ебись, ебическая, ебки, ебла, еблан, ебливый, еблище, ебло, еблыст, ебля, ёбн, ебнуть, ебнуться, ебня, ебошить, ебская, ебский, ебтвоюмать, ебун, ебут, ебуч, ебуче, ебучее, ебучий, ебучим, ебущ, ебырь, елда, елдак, елдачить, жопа, жопу, заговнять, задрачивать, задристать, задрота, зае6, заё6, заеб, заёб, заеба, заебал, заебанец, заебастая, заебастый, заебать, заебаться, заебашить, заебистое, заёбистое, заебистые, заёбистые, заебистый, заёбистый, заебись, заебошить, заебываться, залуп, залупа, залупаться, залупить, залупиться, замудохаться, запиздячить, засерать, засерун, засеря, засирать, засрун, захуячить, заябестая, злоеб, злоебучая, злоебучее, злоебучий, ибанамат, ибонех, изговнять, изговняться, изъебнуться, ипать, ипаться, ипаццо, Какдвапальцаобоссать, конча, курва, курвятник, лох, лошарa, лошара, лошары, лошок, лярва, малафья, манда, мандавошек, мандавошка, мандавошки, мандей, мандень, мандеть, мандища, мандой, манду, мандюк, минет, минетчик, минетчица, млять, мокрощелка, мокрощёлка, мразь, мудak, мудaк, мудаг, мудак, муде, мудель, мудеть, муди, мудил, мудила, мудистый, мудня, мудоеб, мудозвон, мудоклюй, на хер, на хуй, набздел, набздеть, наговнять, надристать, надрочить, наебать, наебет, наебнуть, наебнуться, наебывать, напиздел, напиздели, напиздело, напиздили, насрать, настопиздить, нахер, нахрен, нахуй, нахуйник, не ебет, не ебёт, невротебучий, невъебенно, нехира, нехрен, Нехуй, нехуйственно, ниибацо, ниипацца, ниипаццо, ниипет, никуя, нихера, нихуя, обдристаться, обосранец, обосрать, обосцать, обосцаться, обсирать, объебос, обьебать обьебос, однохуйственно, опездал, опизде, опизденивающе, остоебенить, остопиздеть, отмудохать, отпиздить, отпиздячить, отпороть, отъебись, охуевательский, охуевать, охуевающий, охуел, охуенно, охуеньчик, охуеть, охуительно, охуительный, охуяньчик, охуячивать, охуячить, очкун, падла, падонки, падонок, паскуда, педерас, педик, педрик, педрила, педрилло, педрило, педрилы, пездень, пездит, пездишь, пездо, пездят, пердануть, пердеж, пердение, пердеть, пердильник, перднуть, пёрднуть, пердун, пердунец, пердунина, пердунья, пердуха, пердь, переёбок, пернуть, пёрнуть, пи3д, пи3де, пи3ду, пиzдец, пидар, пидарaс, пидарас, пидарасы, пидары, пидор, пидорасы, пидорка, пидорок, пидоры, пидрас, пизда, пиздануть, пиздануться, пиздарваньчик, пиздато, пиздатое, пиздатый, пизденка, пизденыш, пиздёныш, пиздеть, пиздец, пиздит, пиздить, пиздиться, пиздишь, пиздища, пиздище, пиздобол, пиздоболы, пиздобратия, пиздоватая, пиздоватый, пиздолиз, пиздонутые, пиздорванец, пиздорванка, пиздострадатель, пизду, пиздуй, пиздун, пиздунья, пизды, пиздюга, пиздюк, пиздюлина, пиздюля, пиздят, пиздячить, писбшки, писька, писькострадатель, писюн, писюшка, по хуй, по хую, подговнять, подонки, подонок, подъебнуть, подъебнуться, поебать, поебень, поёбываает, поскуда, посрать, потаскуха, потаскушка, похер, похерил, похерила, похерили, похеру, похрен, похрену, похуй, похуист, похуистка, похую, придурок, приебаться, припиздень, припизднутый, припиздюлина, пробзделся, проблядь, проеб, проебанка, проебать, промандеть, промудеть, пропизделся, пропиздеть, пропиздячить, раздолбай, разхуячить, разъеб, разъеба, разъебай, разъебать, распиздай, распиздеться, распиздяй, распиздяйство, распроеть, сволота, сволочь, сговнять, секель, серун, серька, сестроеб, сикель, сила, сирать, сирывать, соси, спиздел, спиздеть, спиздил, спиздила, спиздили, спиздит, спиздить, срака, сраку, сраный, сранье, срать, срун, ссака, ссышь, стерва, страхопиздище, сука, суки, суходрочка, сучара, сучий, сучка, сучко, сучонок, сучье, сцание, сцать, сцука, сцуки, сцуконах, сцуль, сцыха, сцышь, съебаться, сыкун, трахае6, трахаеб, трахаёб, трахатель, ублюдок, уебать, уёбища, уебище, уёбище, уебищное, уёбищное, уебк, уебки, уёбки, уебок, уёбок, урюк, усраться, ушлепок, х_у_я_р_а, хyё, хyй, хyйня, хамло, хер, херня, херовато, херовина, херовый, хитровыебанный, хитрожопый, хуeм, хуе, хуё, хуевато, хуёвенький, хуевина, хуево, хуевый, хуёвый, хуек, хуёк, хуел, хуем, хуенч, хуеныш, хуенький, хуеплет, хуеплёт, хуепромышленник, хуерик, хуерыло, хуесос, хуесоска, хуета, хуетень, хуею, хуи, хуй, хуйком, хуйло, хуйня, хуйрик, хуище, хуля, хую, хуюл, хуя, хуяк, хуякать, хуякнуть, хуяра, хуясе, хуячить, целка, чмо, чмошник, чмырь, шалава, шалавой, шараёбиться, шлюха, шлюхой, шлюшка, ябывает, , \"\"\""
      ],
      "execution_count": null,
      "outputs": []
    },
    {
      "cell_type": "code",
      "metadata": {
        "id": "qT2g8tVSgE2R"
      },
      "source": [
        "kw =  mat.split(', ')"
      ],
      "execution_count": null,
      "outputs": []
    },
    {
      "cell_type": "code",
      "metadata": {
        "id": "9bmlCcOIgQ6_"
      },
      "source": [
        "from collections import defaultdict\n",
        "mat_count = np.zeros_like(df['Comment Text'])\n",
        "for i, com in enumerate(df['Comment Text']):\n",
        "  for w in com.split():\n",
        "    if w in kw:\n",
        "      mat_count[i] += 1\n"
      ],
      "execution_count": null,
      "outputs": []
    },
    {
      "cell_type": "code",
      "metadata": {
        "id": "7sqTcyGMf5Bm"
      },
      "source": [
        "# all coments with mat and all mat words\n",
        "np.sum(mat_count != 0), np.sum(mat_count), len(mat_count)"
      ],
      "execution_count": null,
      "outputs": []
    },
    {
      "cell_type": "code",
      "metadata": {
        "id": "XQeiu96_f-ta"
      },
      "source": [
        "'шлюха' in mat"
      ],
      "execution_count": null,
      "outputs": []
    },
    {
      "cell_type": "code",
      "metadata": {
        "id": "IHcYGgO5op7D"
      },
      "source": [],
      "execution_count": null,
      "outputs": []
    },
    {
      "cell_type": "code",
      "metadata": {
        "id": "cVl5BXDroqB-"
      },
      "source": [],
      "execution_count": null,
      "outputs": []
    },
    {
      "cell_type": "code",
      "metadata": {
        "id": "abQEx2hroqMh"
      },
      "source": [],
      "execution_count": null,
      "outputs": []
    },
    {
      "cell_type": "markdown",
      "metadata": {
        "id": "nGDX7DLQoqmA"
      },
      "source": [
        "# Word cloud and side model"
      ]
    },
    {
      "cell_type": "code",
      "metadata": {
        "id": "tSyKj-tDihuL"
      },
      "source": [
        "!pip3 install wordcloud"
      ],
      "execution_count": null,
      "outputs": []
    },
    {
      "cell_type": "code",
      "metadata": {
        "id": "V_6otfdDs2Hr"
      },
      "source": [
        "from wordcloud import WordCloud"
      ],
      "execution_count": null,
      "outputs": []
    },
    {
      "cell_type": "code",
      "metadata": {
        "id": "FkdhaBOBteKe"
      },
      "source": [],
      "execution_count": null,
      "outputs": []
    },
    {
      "cell_type": "code",
      "metadata": {
        "id": "tBgKgIl_sEji"
      },
      "source": [
        "def create_word_cloud(cluster=6):\n",
        "    a = df[df['predThemes']==cluster].index\n",
        "    ind = np.random.randint(0, len(a), 500)\n",
        "    #text = df[\"Comment Text\"][a[ind]]\n",
        "    text = df[\"Lemmas\"][a[ind]]\n",
        "\n",
        "    text = text.str.cat(sep=' ')\n",
        "    text = text.lower()\n",
        "    text = ' '.join([word for word in text.split()])\n",
        "    wordcloud = WordCloud(max_font_size=50, max_words=100, background_color=\"white\").generate(text)\n",
        "\n",
        "    print(\"Theme\", cluster)\n",
        "    plt.figure()\n",
        "    plt.imshow(wordcloud, interpolation=\"bilinear\")\n",
        "    plt.axis(\"off\")\n",
        "    plt.show()\n",
        "\n",
        "for i in range(7):\n",
        "  create_word_cloud(i)     # number is theme you could print key word for any theme\n"
      ],
      "execution_count": null,
      "outputs": []
    },
    {
      "cell_type": "code",
      "metadata": {
        "id": "WJc72VxMuAPC"
      },
      "source": [],
      "execution_count": null,
      "outputs": []
    }
  ]
}